{
  "nbformat": 4,
  "nbformat_minor": 0,
  "metadata": {
    "colab": {
      "provenance": [],
      "authorship_tag": "ABX9TyOpvvuO89JfCJKPl1sKt4Ic",
      "include_colab_link": true
    },
    "kernelspec": {
      "name": "python3",
      "display_name": "Python 3"
    },
    "language_info": {
      "name": "python"
    }
  },
  "cells": [
    {
      "cell_type": "markdown",
      "metadata": {
        "id": "view-in-github",
        "colab_type": "text"
      },
      "source": [
        "<a href=\"https://colab.research.google.com/github/fedhere/FDSFE_FBianco/blob/main/ClassDemos/ClassDemo4_TitanicDataset_for_students.ipynb\" target=\"_parent\"><img src=\"https://colab.research.google.com/assets/colab-badge.svg\" alt=\"Open In Colab\"/></a>"
      ]
    },
    {
      "cell_type": "code",
      "execution_count": null,
      "metadata": {
        "id": "ojBUjfOhK6M1"
      },
      "outputs": [],
      "source": [
        "import pandas as pd\n",
        "from sklearn.model_selection import train_test_split\n",
        "from sklearn.ensemble import RandomForestClassifier"
      ]
    },
    {
      "cell_type": "markdown",
      "source": [
        "# Data Ingestion\n",
        "\n",
        "Read in [this dataset](https://github.com/fedhere/FDSFE_FBianco/blob/main/data/titanic_train.csv). Be sure to use the raw file when reading with Pandas."
      ],
      "metadata": {
        "id": "k6aDw5I6bnts"
      }
    },
    {
      "cell_type": "code",
      "source": [],
      "metadata": {
        "id": "FvwK2Cpca4WC"
      },
      "execution_count": null,
      "outputs": []
    },
    {
      "cell_type": "markdown",
      "source": [
        "# Data exploration\n",
        "\n",
        "1. Check the shape of the dataset.\n",
        "2. Check the first few rows of the dataset.\n",
        "3. Check the last few rows of the dataset.\n",
        "4. Check `df.info()` to see the data types in the dataset and check for missing entries.\n",
        "5. Check `df.describe()` to get a feel for the spread of the data and check for missing entries."
      ],
      "metadata": {
        "id": "hBB3hkqlbpZP"
      }
    },
    {
      "cell_type": "code",
      "source": [],
      "metadata": {
        "id": "_0CfQ8swbcp9"
      },
      "execution_count": null,
      "outputs": []
    },
    {
      "cell_type": "markdown",
      "source": [
        "# Data preparation: Restricting the dataset\n",
        "\n",
        "We are only going to use the following columns from this dataset:\n",
        "* `Survived`: Whether or not the passenger survived the titanic disaster. This is what our model will predict, it is our \"target class\". What kind of data is this?\n",
        "* `Pclass`: The class of ticket the passenger had. Can be 1st class, 2nd class or 3rd class.\n",
        "* `Sex`: Gender of the passenger encoded as \"male\" or \"female\".\n",
        "* `Age`: Age of the passenger.\n",
        "\n",
        "We will be using the data in `Pclass`, `Sex` and `Age` to predict whether or not the passenger survived.\n",
        "\n",
        "**We are answering the question:** how did ticket class, gender and age affect one's chances of surviving the titanic disaster?"
      ],
      "metadata": {
        "id": "7ZLBh3v1bv0u"
      }
    },
    {
      "cell_type": "markdown",
      "source": [
        "## Step 1: Turn the `Sex` column from strings into numbers.\n",
        "\n",
        "Create a new column called `gender` which encodes \"male\" as 0 and \"female\" as 1."
      ],
      "metadata": {
        "id": "JH-4MSUMeeqq"
      }
    },
    {
      "cell_type": "code",
      "source": [],
      "metadata": {
        "id": "-GZttOgredIa"
      },
      "execution_count": null,
      "outputs": []
    },
    {
      "cell_type": "markdown",
      "source": [
        "## Step 2: One-hot encode the `Pclass` column.\n",
        "\n",
        "`Pclass` is the ticket class of the passenger and can be either 1, 2 or 3."
      ],
      "metadata": {
        "id": "62ScwVWxgAps"
      }
    },
    {
      "cell_type": "code",
      "source": [],
      "metadata": {
        "id": "zphlsFQVg-BP"
      },
      "execution_count": null,
      "outputs": []
    },
    {
      "cell_type": "markdown",
      "source": [
        "## Step 3: The `Age` column is fine. Now make a new dataframe that has only the columns we care about."
      ],
      "metadata": {
        "id": "uOn9QQwZiXqp"
      }
    },
    {
      "cell_type": "code",
      "source": [],
      "metadata": {
        "id": "dDEU49mDifM3"
      },
      "execution_count": null,
      "outputs": []
    },
    {
      "cell_type": "markdown",
      "source": [
        "## Step 4: Remove any rows that have missing values.\n",
        "\n",
        "How many rows did we lose?"
      ],
      "metadata": {
        "id": "X5L9AqzVjODG"
      }
    },
    {
      "cell_type": "code",
      "source": [],
      "metadata": {
        "id": "019HFD04m2YG"
      },
      "execution_count": null,
      "outputs": []
    },
    {
      "cell_type": "markdown",
      "source": [
        "## Step 5: Train-test split\n",
        "\n",
        "First we must declare our features (`x`) and our target (`y`) arrays."
      ],
      "metadata": {
        "id": "A1xYrZPHjxyK"
      }
    },
    {
      "cell_type": "code",
      "source": [],
      "metadata": {
        "id": "g64SXkmdkeqf"
      },
      "execution_count": null,
      "outputs": []
    },
    {
      "cell_type": "markdown",
      "source": [
        "## Step 6: Train a Random Forest Classifier"
      ],
      "metadata": {
        "id": "2Pr1XQ8Xly7L"
      }
    },
    {
      "cell_type": "code",
      "source": [],
      "metadata": {
        "id": "rz0vet7elofg"
      },
      "execution_count": null,
      "outputs": []
    }
  ]
}