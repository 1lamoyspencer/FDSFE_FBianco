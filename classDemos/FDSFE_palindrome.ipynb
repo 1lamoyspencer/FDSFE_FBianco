{
  "nbformat": 4,
  "nbformat_minor": 0,
  "metadata": {
    "colab": {
      "provenance": [],
      "authorship_tag": "ABX9TyOhgV0i5wa/reYvFrNG97BS",
      "include_colab_link": true
    },
    "kernelspec": {
      "name": "python3",
      "display_name": "Python 3"
    },
    "language_info": {
      "name": "python"
    }
  },
  "cells": [
    {
      "cell_type": "markdown",
      "metadata": {
        "id": "view-in-github",
        "colab_type": "text"
      },
      "source": [
        "<a href=\"https://colab.research.google.com/github/fedhere/FDSFE_FBianco/blob/main/classDemos/FDSFE_palindrome.ipynb\" target=\"_parent\"><img src=\"https://colab.research.google.com/assets/colab-badge.svg\" alt=\"Open In Colab\"/></a>"
      ]
    },
    {
      "cell_type": "code",
      "execution_count": 1,
      "metadata": {
        "id": "V2j7gBOU1eYk"
      },
      "outputs": [],
      "source": [
        "def palindrome(a):\n",
        "  if a == a[::-1]:\n",
        "    print(\"its a palindrome\")\n",
        "    return True\n",
        "  print(\"its not a palindrome\")\n",
        "  return False"
      ]
    },
    {
      "cell_type": "code",
      "source": [
        "palindrome(\"hannah\")"
      ],
      "metadata": {
        "colab": {
          "base_uri": "https://localhost:8080/"
        },
        "id": "0hk3kzd31poC",
        "outputId": "11e15346-d045-4f53-f2b2-6a6febfd29bc"
      },
      "execution_count": 2,
      "outputs": [
        {
          "output_type": "stream",
          "name": "stdout",
          "text": [
            "its a palindrome\n"
          ]
        },
        {
          "output_type": "execute_result",
          "data": {
            "text/plain": [
              "True"
            ]
          },
          "metadata": {},
          "execution_count": 2
        }
      ]
    },
    {
      "cell_type": "code",
      "source": [
        "palindrome(\"mother\")"
      ],
      "metadata": {
        "colab": {
          "base_uri": "https://localhost:8080/"
        },
        "id": "uI8N6C6d14ZS",
        "outputId": "dbe746d0-518f-451a-8764-fd4999e4b2cf"
      },
      "execution_count": 7,
      "outputs": [
        {
          "output_type": "stream",
          "name": "stdout",
          "text": [
            "its not a palindrome\n"
          ]
        },
        {
          "output_type": "execute_result",
          "data": {
            "text/plain": [
              "False"
            ]
          },
          "metadata": {},
          "execution_count": 7
        }
      ]
    },
    {
      "cell_type": "code",
      "source": [
        "palindrome(\"Hannah\")"
      ],
      "metadata": {
        "colab": {
          "base_uri": "https://localhost:8080/"
        },
        "id": "X9gxTuik1s01",
        "outputId": "ed8d5166-df93-4809-b652-d5cfd5e58dbb"
      },
      "execution_count": 3,
      "outputs": [
        {
          "output_type": "stream",
          "name": "stdout",
          "text": [
            "its not a palindrome\n"
          ]
        },
        {
          "output_type": "execute_result",
          "data": {
            "text/plain": [
              "False"
            ]
          },
          "metadata": {},
          "execution_count": 3
        }
      ]
    },
    {
      "cell_type": "code",
      "source": [
        "def palindrome(a):\n",
        "  if a.lower() == a[::-1].lower():\n",
        "    print(\"its a palindrome\")\n",
        "    return True\n",
        "  print(\"its not a palindrome\")\n",
        "  return False"
      ],
      "metadata": {
        "id": "OoVmjukl1u6K"
      },
      "execution_count": 8,
      "outputs": []
    },
    {
      "cell_type": "code",
      "source": [
        "palindrome(\"hannah\")"
      ],
      "metadata": {
        "colab": {
          "base_uri": "https://localhost:8080/"
        },
        "id": "uON-YAd41zIh",
        "outputId": "6f75c4d7-65b1-442d-b2a3-4b149a2a00c9"
      },
      "execution_count": 5,
      "outputs": [
        {
          "output_type": "stream",
          "name": "stdout",
          "text": [
            "its a palindrome\n"
          ]
        },
        {
          "output_type": "execute_result",
          "data": {
            "text/plain": [
              "True"
            ]
          },
          "metadata": {},
          "execution_count": 5
        }
      ]
    },
    {
      "cell_type": "code",
      "source": [
        "palindrome(\"Hannah\")"
      ],
      "metadata": {
        "colab": {
          "base_uri": "https://localhost:8080/"
        },
        "id": "5Ud06Fvb11AY",
        "outputId": "3b7d2974-3bda-42c3-d8cf-67532a3fde7c"
      },
      "execution_count": 6,
      "outputs": [
        {
          "output_type": "stream",
          "name": "stdout",
          "text": [
            "its a palindrome\n"
          ]
        },
        {
          "output_type": "execute_result",
          "data": {
            "text/plain": [
              "True"
            ]
          },
          "metadata": {},
          "execution_count": 6
        }
      ]
    },
    {
      "cell_type": "code",
      "source": [],
      "metadata": {
        "id": "f4EY8sRN114z"
      },
      "execution_count": null,
      "outputs": []
    }
  ]
}