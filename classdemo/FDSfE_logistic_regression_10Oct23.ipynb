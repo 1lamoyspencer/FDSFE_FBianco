{
  "nbformat": 4,
  "nbformat_minor": 0,
  "metadata": {
    "colab": {
      "provenance": [],
      "include_colab_link": true
    },
    "kernelspec": {
      "name": "python3",
      "display_name": "Python 3"
    },
    "language_info": {
      "name": "python"
    }
  },
  "cells": [
    {
      "cell_type": "markdown",
      "metadata": {
        "id": "view-in-github",
        "colab_type": "text"
      },
      "source": [
        "<a href=\"https://colab.research.google.com/github/fedhere/FDSFE_FBianco/blob/main/classdemo/FDSfE_logistic_regression_10Oct23.ipynb\" target=\"_parent\"><img src=\"https://colab.research.google.com/assets/colab-badge.svg\" alt=\"Open In Colab\"/></a>"
      ]
    },
    {
      "cell_type": "markdown",
      "source": [
        "https://archive.ics.uci.edu/ml/datasets/bank+marketing#\n",
        "\n",
        "Source:\n",
        "\n",
        "[Moro et al., 2014] S. Moro, P. Cortez and P. Rita. A Data-Driven Approach to Predict the Success of Bank Telemarketing. Decision Support Systems, Elsevier, 62:22-31, June 2014\n",
        "\n",
        "Data Set Information:\n",
        "\n",
        "The data is related with direct marketing campaigns of a Portuguese banking institution. The marketing campaigns were based on phone calls. Often, more than one contact to the same client was required, in order to access if the product (bank term deposit) would be ('yes') or not ('no') subscribed.\n",
        "\n",
        "## Input variables:\n",
        "bank client data:\n",
        "1. age (numeric)\n",
        "2. job : type of job (categorical: 'admin.','blue-collar','entrepreneur','housemaid','management','retired','self-employed','services','student','technician','unemployed','unknown')\n",
        "3. marital : marital status (categorical: 'divorced','married','single','unknown'; note: 'divorced' means divorced or widowed)\n",
        "4. education (categorical: 'basic.4y','basic.6y','basic.9y','high.school','illiterate','professional.course','university.degree','unknown')\n",
        "5. default: has credit in default? (categorical: 'no','yes','unknown')\n",
        "6. housing: has housing loan? (categorical: 'no','yes','unknown')\n",
        "7. loan: has personal loan? (categorical: 'no','yes','unknown')\n",
        "8. contact: contact communication type (categorical: 'cellular','telephone')\n",
        "9. month: last contact month of year (categorical: 'jan', 'feb', 'mar', ..., 'nov', 'dec')\n",
        "10. day_of_week: last contact day of the week (categorical: 'mon','tue','wed','thu','fri')\n",
        "11. duration: last contact duration, in seconds (numeric). Important note: this attribute highly affects the output target (e.g., if duration=0 then y='no'). Yet, the duration is not known before a call is performed. Also, after the end of the call y is obviously known. Thus, this input should only be included for benchmark purposes and should be discarded if the intention is to have a realistic predictive model.\n",
        "12. campaign: number of contacts performed during this campaign and for this client (numeric, includes last contact)\n",
        "13. pdays: number of days that passed by after the client was last contacted from a previous campaign (numeric; 999 means client was not previously contacted)\n",
        "14. previous: number of contacts performed before this campaign and for this client (numeric)\n",
        "15. poutcome: outcome of the previous marketing campaign (categorical: 'failure','nonexistent','success')\n",
        "16. emp.var.rate: employment variation rate - quarterly indicator (numeric)\n",
        "17. cons.price.idx: consumer price index - monthly indicator (numeric)\n",
        "18. cons.conf.idx: consumer confidence index - monthly indicator (numeric)\n",
        "19. euribor3m: euribor 3 month rate - daily indicator (numeric)\n",
        "20. nr.employed: number of employees - quarterly indicator (numeric)\n",
        "\n",
        "Output variable (desired target):\n",
        "21. y - has the client subscribed a term deposit? (binary: 'yes','no')"
      ],
      "metadata": {
        "id": "m46ojOZnYRK_"
      }
    },
    {
      "cell_type": "code",
      "execution_count": null,
      "metadata": {
        "id": "jFtaCDl8LiaW"
      },
      "outputs": [],
      "source": [
        "import pandas as pd"
      ]
    },
    {
      "cell_type": "code",
      "source": [
        "bank = pd.read_csv(\"https://github.com/fedhere/FDSfE_FBianco/raw/main/data/bank_term_deposit.csv\")"
      ],
      "metadata": {
        "id": "9Ghd6hzwUewu"
      },
      "execution_count": null,
      "outputs": []
    },
    {
      "cell_type": "code",
      "source": [
        "bank.info()"
      ],
      "metadata": {
        "id": "rYuHoGgsU19C"
      },
      "execution_count": null,
      "outputs": []
    },
    {
      "cell_type": "code",
      "source": [
        "bank[\"y\"].unique()"
      ],
      "metadata": {
        "id": "7cQBHt60Xfjp"
      },
      "execution_count": null,
      "outputs": []
    },
    {
      "cell_type": "code",
      "source": [
        "bank[\"target\"] = (bank[\"y\"] == \"yes\").astype(int)"
      ],
      "metadata": {
        "id": "U46X7Dj8lrYZ"
      },
      "execution_count": null,
      "outputs": []
    },
    {
      "cell_type": "code",
      "source": [
        "bank"
      ],
      "metadata": {
        "id": "lKhacwoBmem-"
      },
      "execution_count": null,
      "outputs": []
    },
    {
      "cell_type": "code",
      "source": [
        "bank.hist(figsize=(10,10));"
      ],
      "metadata": {
        "id": "UAzRNPpRm1c0"
      },
      "execution_count": null,
      "outputs": []
    },
    {
      "cell_type": "code",
      "source": [
        "bank.columns"
      ],
      "metadata": {
        "id": "RvVULmHzmqNO"
      },
      "execution_count": null,
      "outputs": []
    },
    {
      "cell_type": "code",
      "source": [
        "cols = [\"age\", \"balance\", \"duration\", \"marital\"]\n",
        "features = bank[cols]\n",
        "target = bank[\"target\"]"
      ],
      "metadata": {
        "id": "9-RQuGw4mekg"
      },
      "execution_count": null,
      "outputs": []
    },
    {
      "cell_type": "code",
      "source": [
        "features"
      ],
      "metadata": {
        "id": "JTQ06VAFmhjm"
      },
      "execution_count": null,
      "outputs": []
    },
    {
      "cell_type": "markdown",
      "source": [
        "# One-Hot Encoding"
      ],
      "metadata": {
        "id": "Le8fEtGw_NJA"
      }
    },
    {
      "cell_type": "code",
      "source": [
        "features[\"marital\"].unique()"
      ],
      "metadata": {
        "id": "XBGRpZ2wmhng"
      },
      "execution_count": null,
      "outputs": []
    },
    {
      "cell_type": "code",
      "source": [
        "pd.get_dummies(features['marital'], prefix='marital')"
      ],
      "metadata": {
        "id": "bu4bs9nOmeh4"
      },
      "execution_count": null,
      "outputs": []
    },
    {
      "cell_type": "code",
      "source": [
        "features.join(pd.get_dummies(features['marital'], prefix='marital'))"
      ],
      "metadata": {
        "id": "4R6j45A9nOF4"
      },
      "execution_count": null,
      "outputs": []
    },
    {
      "cell_type": "code",
      "source": [
        "features.join(pd.get_dummies(features['marital'], prefix='marital')).drop(columns=['marital'])"
      ],
      "metadata": {
        "id": "9rDnXEvEnOIm"
      },
      "execution_count": null,
      "outputs": []
    },
    {
      "cell_type": "code",
      "source": [
        "features = features.join(pd.get_dummies(features['marital'], prefix='marital')).drop(columns=['marital'])"
      ],
      "metadata": {
        "id": "rfCrfDDgnOLL"
      },
      "execution_count": null,
      "outputs": []
    },
    {
      "cell_type": "markdown",
      "source": [
        "# Min-Max Normalization\n",
        "\n",
        "(array - min(array)) / (max(array) - min(array))"
      ],
      "metadata": {
        "id": "EMo-C3TY_bkK"
      }
    },
    {
      "cell_type": "code",
      "source": [
        "features.hist(figsize=(10,10));"
      ],
      "metadata": {
        "id": "OvVLuboQoux_"
      },
      "execution_count": null,
      "outputs": []
    },
    {
      "cell_type": "code",
      "source": [
        "features = (features - features.min()) / (features.max() - features.min())"
      ],
      "metadata": {
        "id": "o3YZhLjInON0"
      },
      "execution_count": null,
      "outputs": []
    },
    {
      "cell_type": "code",
      "source": [
        "features.hist(figsize=(10,10));"
      ],
      "metadata": {
        "id": "wQBWKHSwo3Cd"
      },
      "execution_count": null,
      "outputs": []
    },
    {
      "cell_type": "markdown",
      "source": [
        "# Logistic Regression"
      ],
      "metadata": {
        "id": "DGsdOEOl_t_c"
      }
    },
    {
      "cell_type": "code",
      "source": [
        "from sklearn.linear_model import LogisticRegression"
      ],
      "metadata": {
        "id": "DT_pMLs-ZDfH"
      },
      "execution_count": null,
      "outputs": []
    },
    {
      "cell_type": "code",
      "source": [
        "# -- initialize the model\n",
        "logreg = LogisticRegression()"
      ],
      "metadata": {
        "id": "p5Hbhn_qogRU"
      },
      "execution_count": null,
      "outputs": []
    },
    {
      "cell_type": "code",
      "source": [
        "logreg.fit(features, target)"
      ],
      "metadata": {
        "id": "4UxSAmqymefQ"
      },
      "execution_count": null,
      "outputs": []
    },
    {
      "cell_type": "code",
      "source": [
        "logreg.coef_"
      ],
      "metadata": {
        "id": "4JFYCod4a4hX"
      },
      "execution_count": null,
      "outputs": []
    },
    {
      "cell_type": "code",
      "source": [
        "logreg.intercept_"
      ],
      "metadata": {
        "id": "05y5a0XVa7oY"
      },
      "execution_count": null,
      "outputs": []
    },
    {
      "cell_type": "code",
      "source": [
        "logreg.predict(features)"
      ],
      "metadata": {
        "id": "cY5sndyyeUxd"
      },
      "execution_count": null,
      "outputs": []
    },
    {
      "cell_type": "code",
      "source": [
        "prediction = logreg.predict(features)"
      ],
      "metadata": {
        "id": "k2bAPt0Cbdc0"
      },
      "execution_count": null,
      "outputs": []
    },
    {
      "cell_type": "code",
      "source": [
        "(prediction == target).sum() / len(target)"
      ],
      "metadata": {
        "id": "4H-Dh9EdSEhS"
      },
      "execution_count": null,
      "outputs": []
    },
    {
      "cell_type": "markdown",
      "source": [
        "# Model Evaluation"
      ],
      "metadata": {
        "id": "jh_UNnbC__Nn"
      }
    },
    {
      "cell_type": "code",
      "source": [
        "# -- metrics\n",
        "from sklearn.metrics import classification_report"
      ],
      "metadata": {
        "id": "VXYb07pRtveC"
      },
      "execution_count": null,
      "outputs": []
    },
    {
      "cell_type": "code",
      "source": [
        "print(classification_report(target, prediction))"
      ],
      "metadata": {
        "id": "7PWZpKKWufG4"
      },
      "execution_count": null,
      "outputs": []
    },
    {
      "cell_type": "code",
      "source": [
        "target_names = [\"No Buy\", \"Buy\"]\n",
        "print(classification_report(target, prediction, target_names=target_names))"
      ],
      "metadata": {
        "id": "WknfSZ9buK-W"
      },
      "execution_count": null,
      "outputs": []
    },
    {
      "cell_type": "code",
      "source": [
        "# -- confusion matrics\n",
        "from sklearn.metrics import confusion_matrix\n",
        "\n",
        "confusion_matrix(target, prediction)"
      ],
      "metadata": {
        "id": "XHu0r04FuSVe"
      },
      "execution_count": null,
      "outputs": []
    },
    {
      "cell_type": "code",
      "source": [
        "cnf_matrix = confusion_matrix(target, prediction)"
      ],
      "metadata": {
        "id": "V7IEB4rQvNQD"
      },
      "execution_count": null,
      "outputs": []
    },
    {
      "cell_type": "code",
      "source": [
        "import seaborn as sns\n",
        "import pylab as plt\n",
        "\n",
        "sns.heatmap(cnf_matrix, annot=True, cmap=\"Blues\", fmt='d');\n",
        "plt.title('Confusion matrix')\n",
        "plt.ylabel('Actual label')\n",
        "plt.xlabel('Predicted label');"
      ],
      "metadata": {
        "id": "f1SKP6B5vQtP"
      },
      "execution_count": null,
      "outputs": []
    },
    {
      "cell_type": "code",
      "source": [
        "# -- is this good?\n",
        "\n",
        "target.hist();"
      ],
      "metadata": {
        "id": "-1bQ_t1RvZib"
      },
      "execution_count": null,
      "outputs": []
    },
    {
      "cell_type": "code",
      "source": [
        "(target == 0).sum()"
      ],
      "metadata": {
        "id": "P8hzIVrZw49q"
      },
      "execution_count": null,
      "outputs": []
    },
    {
      "cell_type": "code",
      "source": [
        "(target == 1).sum()"
      ],
      "metadata": {
        "id": "m8VUY_FGwzgT"
      },
      "execution_count": null,
      "outputs": []
    },
    {
      "cell_type": "code",
      "source": [
        "(target == 0).sum() / len(target)"
      ],
      "metadata": {
        "id": "RNh0U-Fcw4Gj"
      },
      "execution_count": null,
      "outputs": []
    },
    {
      "cell_type": "code",
      "source": [],
      "metadata": {
        "id": "yJ09Uz5uxC-n"
      },
      "execution_count": null,
      "outputs": []
    }
  ]
}