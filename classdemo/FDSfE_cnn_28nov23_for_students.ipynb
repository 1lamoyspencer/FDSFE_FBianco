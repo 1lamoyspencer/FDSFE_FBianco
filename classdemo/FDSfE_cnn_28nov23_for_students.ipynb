{
  "nbformat": 4,
  "nbformat_minor": 0,
  "metadata": {
    "colab": {
      "provenance": [],
      "gpuType": "T4",
      "authorship_tag": "ABX9TyOsi/7VKA9B9BmmMSvHV6MM",
      "include_colab_link": true
    },
    "kernelspec": {
      "name": "python3",
      "display_name": "Python 3"
    },
    "language_info": {
      "name": "python"
    },
    "accelerator": "GPU"
  },
  "cells": [
    {
      "cell_type": "markdown",
      "metadata": {
        "id": "view-in-github",
        "colab_type": "text"
      },
      "source": [
        "<a href=\"https://colab.research.google.com/github/fedhere/FDSFE_FBianco/blob/main/classdemo/FDSfE_cnn_28nov23_for_students.ipynb\" target=\"_parent\"><img src=\"https://colab.research.google.com/assets/colab-badge.svg\" alt=\"Open In Colab\"/></a>"
      ]
    },
    {
      "cell_type": "code",
      "execution_count": null,
      "metadata": {
        "id": "izT85T-5Q71q"
      },
      "outputs": [],
      "source": [
        "import numpy as np\n",
        "from matplotlib import pyplot as plt\n",
        "from tensorflow import keras\n",
        "from keras import layers\n",
        "from keras import datasets\n",
        "from sklearn.metrics import confusion_matrix"
      ]
    },
    {
      "cell_type": "markdown",
      "source": [
        "# Load MNIST Data"
      ],
      "metadata": {
        "id": "moTptTK6Rb7L"
      }
    },
    {
      "cell_type": "code",
      "source": [
        "# Load the data and split it between train and test sets\n",
        "(x_train, y_train), (x_test, y_test) = datasets.mnist.load_data()"
      ],
      "metadata": {
        "id": "bVViJKONRMRl"
      },
      "execution_count": null,
      "outputs": []
    },
    {
      "cell_type": "markdown",
      "source": [
        "# Explore MNIST Data"
      ],
      "metadata": {
        "id": "2ooIZFu5ReOo"
      }
    },
    {
      "cell_type": "code",
      "source": [],
      "metadata": {
        "id": "2mw4epO8RkNw"
      },
      "execution_count": null,
      "outputs": []
    },
    {
      "cell_type": "markdown",
      "source": [
        "# Normalize Images"
      ],
      "metadata": {
        "id": "JX5mrZ9YVkVx"
      }
    },
    {
      "cell_type": "code",
      "source": [],
      "metadata": {
        "id": "LLDcYz5aYTF_"
      },
      "execution_count": null,
      "outputs": []
    },
    {
      "cell_type": "code",
      "source": [],
      "metadata": {
        "id": "7V5koHhpRqbR"
      },
      "execution_count": null,
      "outputs": []
    },
    {
      "cell_type": "markdown",
      "source": [
        "# Reshape arrays to from (N, 28, 28) to (N, 28, 28, 1)\n",
        "\n",
        "If these were color images, the arrays would already have shape (N, 28, 28, 3). The extra dimension represents 3 \"color channels\". In our case, the images are black and white but Keras still needs that extra dimension."
      ],
      "metadata": {
        "id": "kmJpsnnTWtpM"
      }
    },
    {
      "cell_type": "code",
      "source": [],
      "metadata": {
        "id": "nZsYVmHGYZwg"
      },
      "execution_count": null,
      "outputs": []
    },
    {
      "cell_type": "code",
      "source": [],
      "metadata": {
        "id": "KnY35CdjVolQ"
      },
      "execution_count": null,
      "outputs": []
    },
    {
      "cell_type": "markdown",
      "source": [
        "# One-hot encode the label arrays"
      ],
      "metadata": {
        "id": "qnS-x9OaXuCw"
      }
    },
    {
      "cell_type": "code",
      "source": [],
      "metadata": {
        "id": "ltq4xFI6YcU7"
      },
      "execution_count": null,
      "outputs": []
    },
    {
      "cell_type": "code",
      "source": [],
      "metadata": {
        "id": "Vy7exv1GYiUP"
      },
      "execution_count": null,
      "outputs": []
    },
    {
      "cell_type": "code",
      "source": [],
      "metadata": {
        "id": "v9F3mwtIYe9X"
      },
      "execution_count": null,
      "outputs": []
    },
    {
      "cell_type": "code",
      "source": [],
      "metadata": {
        "id": "sZgX4KkjXyoc"
      },
      "execution_count": null,
      "outputs": []
    },
    {
      "cell_type": "markdown",
      "source": [
        "# Build the CNN"
      ],
      "metadata": {
        "id": "u2R7C8phYqmP"
      }
    },
    {
      "cell_type": "code",
      "source": [],
      "metadata": {
        "id": "STMaQgJ8Yp2Q"
      },
      "execution_count": null,
      "outputs": []
    },
    {
      "cell_type": "markdown",
      "source": [
        "# Train model"
      ],
      "metadata": {
        "id": "69M-nuNVaSzl"
      }
    },
    {
      "cell_type": "code",
      "source": [],
      "metadata": {
        "id": "j7DuC-GiaRXl"
      },
      "execution_count": null,
      "outputs": []
    },
    {
      "cell_type": "markdown",
      "source": [
        "# Plot loss and accuracy curves"
      ],
      "metadata": {
        "id": "6eWBBwePawb4"
      }
    },
    {
      "cell_type": "code",
      "source": [],
      "metadata": {
        "id": "hMe3KCpMacb2"
      },
      "execution_count": null,
      "outputs": []
    },
    {
      "cell_type": "markdown",
      "source": [
        "# Evaluate the model on the testing set"
      ],
      "metadata": {
        "id": "RqjH_U_BcX9_"
      }
    },
    {
      "cell_type": "code",
      "source": [],
      "metadata": {
        "id": "2XO8Xw01bCpk"
      },
      "execution_count": null,
      "outputs": []
    },
    {
      "cell_type": "markdown",
      "source": [
        "# Make a confusion matrix for the testing set predictions"
      ],
      "metadata": {
        "id": "PUE3l238crBz"
      }
    },
    {
      "cell_type": "code",
      "source": [
        "def plot_cm(cm, classes):\n",
        "\n",
        "    # Normalize cm and make off-diagonal elements negative so they appear red in the plot.\n",
        "    cm = cm.astype(\"float\") / np.nansum(cm, axis=1)[:, np.newaxis]\n",
        "    off_diag = ~np.eye(cm.shape[0], dtype=bool)\n",
        "    cm[off_diag] *= -1\n",
        "    vmin, vmax = -1, 1\n",
        "    cmap = \"RdBu\"\n",
        "\n",
        "    # Plot the cm\n",
        "    fig = plt.figure(figsize=(8, 8))\n",
        "    plt.imshow(cm, interpolation=\"None\", cmap=cmap, vmin=vmin, vmax=vmax)\n",
        "\n",
        "    # Create the colorbar and adjust the tick size\n",
        "    cb = plt.colorbar()\n",
        "    cb.ax.tick_params(labelsize=15)\n",
        "\n",
        "    # Set the tick mark labels on the horizontal and vertical axes to be the class names.\n",
        "    tick_marks = np.arange(len(classes))\n",
        "    plt.xticks(tick_marks, classes, rotation=90, fontsize=15)\n",
        "    plt.yticks(tick_marks, classes, fontsize=15)\n",
        "\n",
        "    # This code loops through each element of the confusion matrix and prints the value on the plot.\n",
        "    fmt = \".2f\"\n",
        "    thresh = cm.max() / 2.0\n",
        "    import itertools\n",
        "    for i, j in itertools.product(range(cm.shape[0]), range(cm.shape[1])):\n",
        "        text = format(abs(cm[i, j]), fmt)\n",
        "        if cm[i, j] == 0:\n",
        "            text = \"0\"\n",
        "        plt.text(\n",
        "            j,\n",
        "            i,\n",
        "            text,\n",
        "            horizontalalignment=\"center\",\n",
        "            color=\"white\" if abs(cm[i, j]) > thresh else \"black\",\n",
        "            fontsize=12,\n",
        "        )\n",
        "\n",
        "    plt.tight_layout()\n",
        "    plt.ylabel(\"True label\", fontsize=20)\n",
        "    plt.xlabel(\"Predicted label\", fontsize=20)\n",
        "    plt.tight_layout()\n",
        "\n",
        "    plt.show()"
      ],
      "metadata": {
        "id": "C2s97Xsxcy8N"
      },
      "execution_count": null,
      "outputs": []
    },
    {
      "cell_type": "code",
      "source": [
        "\n",
        "\n",
        "labels = np.arange(10)\n",
        "plot_cm(cm, labels)"
      ],
      "metadata": {
        "id": "iH90ZgXfd_CF"
      },
      "execution_count": null,
      "outputs": []
    }
  ]
}