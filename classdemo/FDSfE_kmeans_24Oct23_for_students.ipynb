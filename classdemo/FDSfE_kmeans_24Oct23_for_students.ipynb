{
  "nbformat": 4,
  "nbformat_minor": 0,
  "metadata": {
    "colab": {
      "provenance": [],
      "authorship_tag": "ABX9TyOzaJ/rDqw80iccEDBYtUCN",
      "include_colab_link": true
    },
    "kernelspec": {
      "name": "python3",
      "display_name": "Python 3"
    },
    "language_info": {
      "name": "python"
    }
  },
  "cells": [
    {
      "cell_type": "markdown",
      "metadata": {
        "id": "view-in-github",
        "colab_type": "text"
      },
      "source": [
        "<a href=\"https://colab.research.google.com/github/fedhere/FDSFE_FBianco/blob/main/classdemo/FDSfE_kmeans_24Oct23_for_students.ipynb\" target=\"_parent\"><img src=\"https://colab.research.google.com/assets/colab-badge.svg\" alt=\"Open In Colab\"/></a>"
      ]
    },
    {
      "cell_type": "code",
      "source": [
        "import numpy as np\n",
        "import pandas as pd\n",
        "from matplotlib import pyplot as plt\n",
        "import seaborn as sns\n",
        "from sklearn.cluster import KMeans\n",
        "from sklearn.preprocessing import StandardScaler\n",
        "\n",
        "plt.style.use(\"seaborn-whitegrid\")\n",
        "plt.rc(\"figure\", autolayout=True)\n",
        "plt.rc(\n",
        "    \"axes\",\n",
        "    labelweight=\"bold\",\n",
        "    labelsize=\"large\",\n",
        "    titleweight=\"bold\",\n",
        "    titlesize=14,\n",
        "    titlepad=10,\n",
        ")"
      ],
      "metadata": {
        "id": "3XaiM0KNAjjr"
      },
      "execution_count": null,
      "outputs": []
    },
    {
      "cell_type": "markdown",
      "source": [
        "# Get Kaggle dataset"
      ],
      "metadata": {
        "id": "Hf8S7tHVEcmf"
      }
    },
    {
      "cell_type": "code",
      "execution_count": null,
      "metadata": {
        "id": "ShbSkCb__tjI"
      },
      "outputs": [],
      "source": [
        "from google.colab import drive\n",
        "drive.mount('/content/drive')\n",
        "\n",
        "!chmod 600 REPLACEME\n",
        "\n",
        "import json\n",
        "envs = json.load(open(\"REPLACEME\", \"r\"))\n",
        "\n",
        "import os\n",
        "os.environ[\"KAGGLE_USERNAME\"] = envs['REPLACEME']\n",
        "os.environ[\"KAGGLE_KEY\"] = envs['REPLACEME']"
      ]
    },
    {
      "cell_type": "code",
      "source": [
        "!kaggle datasets list"
      ],
      "metadata": {
        "id": "kxjd98jS_8pK"
      },
      "execution_count": null,
      "outputs": []
    },
    {
      "cell_type": "code",
      "source": [
        "!kaggle datasets download -d camnugent/california-housing-prices -p REPLACEME"
      ],
      "metadata": {
        "id": "jAGaMgTqAEcj"
      },
      "execution_count": null,
      "outputs": []
    },
    {
      "cell_type": "code",
      "source": [
        "!unzip REPLACEME -d REPLACEME -o"
      ],
      "metadata": {
        "id": "KGDb2jmPANUi"
      },
      "execution_count": null,
      "outputs": []
    },
    {
      "cell_type": "markdown",
      "source": [
        "# Read dataset"
      ],
      "metadata": {
        "id": "FD58JxgxETgb"
      }
    },
    {
      "cell_type": "code",
      "source": [
        "df = pd.read_csv(\"REPLACEME\")\n",
        "df.head()"
      ],
      "metadata": {
        "id": "8CJtNqUhA58K"
      },
      "execution_count": null,
      "outputs": []
    },
    {
      "cell_type": "markdown",
      "source": [
        "# Select subset of data and scale it"
      ],
      "metadata": {
        "id": "KC6kOtOtEVqH"
      }
    },
    {
      "cell_type": "code",
      "source": [
        "X = df.loc[:, [\"median_income\", \"latitude\", \"longitude\"]]\n",
        "X.head()"
      ],
      "metadata": {
        "id": "QzPCmQ00A95C"
      },
      "execution_count": null,
      "outputs": []
    },
    {
      "cell_type": "code",
      "source": [
        "scaler = REPLACEME\n",
        "scaler.fit(REPLACEME)\n",
        "X[X.columns] = scaler.transform(REPLACEME)\n",
        "X.describe()"
      ],
      "metadata": {
        "id": "4BOFExIEGu6k"
      },
      "execution_count": null,
      "outputs": []
    },
    {
      "cell_type": "markdown",
      "source": [
        "# Cluster the data with kmeans"
      ],
      "metadata": {
        "id": "jxt0zK-PEu6z"
      }
    },
    {
      "cell_type": "code",
      "source": [
        "kmeans = REPLACEME(n_clusters=6)\n",
        "X[\"REPLACEME\"] = kmeans.fit_predict(REPLACEME)\n",
        "X[\"REPLACEME\"] = X[\"REPLACEME\"].astype(\"category\")\n",
        "\n",
        "X.head()"
      ],
      "metadata": {
        "id": "GmWWFvBMCdKj"
      },
      "execution_count": null,
      "outputs": []
    },
    {
      "cell_type": "markdown",
      "source": [
        "# Visualize the clusters locations"
      ],
      "metadata": {
        "id": "_dvLAXL4Exkw"
      }
    },
    {
      "cell_type": "code",
      "source": [
        "sns.relplot(\n",
        "    x=\"REPLACEME\", y=\"REPLACEME\", hue=\"REPLACEME\", data=REPLACEME, height=6,\n",
        ")"
      ],
      "metadata": {
        "id": "bOMeirR6CxcS"
      },
      "execution_count": null,
      "outputs": []
    },
    {
      "cell_type": "markdown",
      "source": [
        "# Visualize the cluster values"
      ],
      "metadata": {
        "id": "nDCm52Z6E4As"
      }
    },
    {
      "cell_type": "code",
      "source": [
        "X[\"REPLACEME\"] = df[\"REPLACEME\"]\n",
        "sns.catplot(x=\"REPLACEME\", y=\"REPLACEME\", data=REPLACEME, kind=\"boxen\", height=6);"
      ],
      "metadata": {
        "id": "3S8zTAWJC1kK"
      },
      "execution_count": null,
      "outputs": []
    }
  ]
}