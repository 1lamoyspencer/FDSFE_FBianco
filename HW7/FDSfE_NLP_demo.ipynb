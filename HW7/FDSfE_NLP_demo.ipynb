{
  "nbformat": 4,
  "nbformat_minor": 0,
  "metadata": {
    "colab": {
      "provenance": [],
      "collapsed_sections": [],
      "mount_file_id": "1Ai87leN3MddXBXgstSDH0YPdqKtfAOY_",
      "authorship_tag": "ABX9TyMchG9p8+mXBjPb2Oi9twkm",
      "include_colab_link": true
    },
    "kernelspec": {
      "name": "python3",
      "display_name": "Python 3"
    },
    "language_info": {
      "name": "python"
    }
  },
  "cells": [
    {
      "cell_type": "markdown",
      "metadata": {
        "id": "view-in-github",
        "colab_type": "text"
      },
      "source": [
        "<a href=\"https://colab.research.google.com/github/fedhere/FDSfE_FBianco/blob/main/HW7/FDSfE_NLP_demo.ipynb\" target=\"_parent\"><img src=\"https://colab.research.google.com/assets/colab-badge.svg\" alt=\"Open In Colab\"/></a>"
      ]
    },
    {
      "cell_type": "code",
      "source": [
        "!pip install kaggle"
      ],
      "metadata": {
        "colab": {
          "base_uri": "https://localhost:8080/"
        },
        "id": "PlVIQs7CfP2i",
        "outputId": "49de25bd-3b65-4798-b09a-9e5d98447d8d"
      },
      "execution_count": 1,
      "outputs": [
        {
          "output_type": "stream",
          "name": "stdout",
          "text": [
            "Looking in indexes: https://pypi.org/simple, https://us-python.pkg.dev/colab-wheels/public/simple/\n",
            "Requirement already satisfied: kaggle in /usr/local/lib/python3.7/dist-packages (1.5.12)\n",
            "Requirement already satisfied: requests in /usr/local/lib/python3.7/dist-packages (from kaggle) (2.23.0)\n",
            "Requirement already satisfied: urllib3 in /usr/local/lib/python3.7/dist-packages (from kaggle) (1.24.3)\n",
            "Requirement already satisfied: python-slugify in /usr/local/lib/python3.7/dist-packages (from kaggle) (6.1.2)\n",
            "Requirement already satisfied: six>=1.10 in /usr/local/lib/python3.7/dist-packages (from kaggle) (1.15.0)\n",
            "Requirement already satisfied: certifi in /usr/local/lib/python3.7/dist-packages (from kaggle) (2022.9.24)\n",
            "Requirement already satisfied: python-dateutil in /usr/local/lib/python3.7/dist-packages (from kaggle) (2.8.2)\n",
            "Requirement already satisfied: tqdm in /usr/local/lib/python3.7/dist-packages (from kaggle) (4.64.1)\n",
            "Requirement already satisfied: text-unidecode>=1.3 in /usr/local/lib/python3.7/dist-packages (from python-slugify->kaggle) (1.3)\n",
            "Requirement already satisfied: idna<3,>=2.5 in /usr/local/lib/python3.7/dist-packages (from requests->kaggle) (2.10)\n",
            "Requirement already satisfied: chardet<4,>=3.0.2 in /usr/local/lib/python3.7/dist-packages (from requests->kaggle) (3.0.4)\n"
          ]
        }
      ]
    },
    {
      "cell_type": "code",
      "source": [
        "import os\n",
        "import json\n",
        "import pandas as pd\n",
        "\n",
        "import numpy as np\n",
        "import pylab as plt\n",
        "import seaborn as sns"
      ],
      "metadata": {
        "id": "GYIcpS7efhpd"
      },
      "execution_count": 2,
      "outputs": []
    },
    {
      "cell_type": "code",
      "execution_count": 3,
      "metadata": {
        "colab": {
          "base_uri": "https://localhost:8080/"
        },
        "id": "boet5K5Ee8dy",
        "outputId": "7fba7fc9-030c-4468-96fa-d0e62d5e7be2"
      },
      "outputs": [
        {
          "output_type": "stream",
          "name": "stdout",
          "text": [
            "Mounted at /content/drive\n"
          ]
        }
      ],
      "source": [
        "from google.colab import drive\n",
        "drive.mount(\"/content/drive\")"
      ]
    },
    {
      "cell_type": "code",
      "source": [
        "cd /content/drive/MyDrive/"
      ],
      "metadata": {
        "colab": {
          "base_uri": "https://localhost:8080/"
        },
        "id": "La8elda0fFTD",
        "outputId": "ef96a3c4-09e8-4ec5-f6c5-168091b4c793"
      },
      "execution_count": 4,
      "outputs": [
        {
          "output_type": "stream",
          "name": "stdout",
          "text": [
            "/content/drive/MyDrive\n"
          ]
        }
      ]
    },
    {
      "cell_type": "code",
      "source": [
        "env = json.load(open(\"kaggle.json\", \"r\"))\n",
        "os.environ[\"KAGGLE_USERNAME\"] = env[\"username\"]\n",
        "os.environ[\"KAGGLE_KEY\"] = env[\"key\"]"
      ],
      "metadata": {
        "id": "3f4kWejSfgDB"
      },
      "execution_count": 5,
      "outputs": []
    },
    {
      "cell_type": "code",
      "source": [
        "!kaggle datasets list"
      ],
      "metadata": {
        "colab": {
          "base_uri": "https://localhost:8080/"
        },
        "id": "lgq_8NpmfcQ-",
        "outputId": "6de3f495-9ad7-46ca-c2f5-53c6629a17c4"
      },
      "execution_count": 7,
      "outputs": [
        {
          "output_type": "stream",
          "name": "stdout",
          "text": [
            "ref                                                             title                                            size  lastUpdated          downloadCount  voteCount  usabilityRating  \n",
            "--------------------------------------------------------------  ----------------------------------------------  -----  -------------------  -------------  ---------  ---------------  \n",
            "akshaydattatraykhare/diabetes-dataset                           Diabetes Dataset                                  9KB  2022-10-06 08:55:25          11339        354  1.0              \n",
            "whenamancodes/covid-19-coronavirus-pandemic-dataset             COVID -19 Coronavirus Pandemic Dataset           11KB  2022-09-30 04:05:11           9046        286  1.0              \n",
            "stetsondone/video-game-sales-by-genre                           Video Game Sales by Genre                        12KB  2022-10-31 17:56:01            847         23  1.0              \n",
            "whenamancodes/credit-card-customers-prediction                  Credit Card Customers Prediction                379KB  2022-10-30 13:03:27           1443         39  1.0              \n",
            "whenamancodes/students-performance-in-exams                     Students Performance in Exams                     9KB  2022-09-14 15:14:54          15595        292  1.0              \n",
            "akshaydattatraykhare/data-for-admission-in-the-university       Data for Admission in the University              4KB  2022-10-27 11:05:45           2007         47  1.0              \n",
            "michaelbryantds/electric-vehicle-charging-dataset               Electric Vehicle Charging Dataset                98KB  2022-11-02 01:45:23            686         36  0.9411765        \n",
            "maharshipandya/-spotify-tracks-dataset                          🎹 Spotify Tracks Dataset                          8MB  2022-10-22 14:40:15           2273         71  1.0              \n",
            "hasibalmuzdadid/global-air-pollution-dataset                    Global Air Pollution Dataset                    371KB  2022-11-08 14:43:32           1180         43  1.0              \n",
            "whenamancodes/amazon-reviews-on-women-dresses                   Amazon Reviews on Women Dresses                   3MB  2022-10-29 12:47:06            552         33  1.0              \n",
            "akshaydattatraykhare/car-details-dataset                        Car Details Dataset                              56KB  2022-10-21 06:11:56           2755         46  1.0              \n",
            "whenamancodes/international-football-from-1872-to-2022          International Football from 1872 to 2022        572KB  2022-10-30 13:27:29            657         30  0.9411765        \n",
            "whenamancodes/customer-personality-analysis                     Company's Ideal Customers | Marketing Strategy   62KB  2022-10-30 14:17:42            953         33  1.0              \n",
            "dimitryzub/walmart-coffee-listings-from-500-stores              Walmart Coffee Listings from 500 stores          85KB  2022-10-25 09:20:12           1291         42  1.0              \n",
            "dheerajmukati/most-runs-in-cricket                              Most Runs in International cricket                4KB  2022-10-16 16:49:20            691         32  1.0              \n",
            "thedevastator/food-prices-year-by-year                          Global Food Prices Year By Year                   7KB  2022-10-30 08:49:55            922         31  1.0              \n",
            "saikumartamminana/gold-price-prediction                         Gold Price Prediction                            41KB  2022-10-30 19:07:30            985         26  0.8235294        \n",
            "thedevastator/udemy-courses-revenue-generation-and-course-anal  Udemy Courses                                   429KB  2022-10-17 00:11:53           1948         57  1.0              \n",
            "whenamancodes/adidas-us-retail-products-dataset                 Adidas US Retail Products Dataset               286KB  2022-10-26 15:44:20            775         33  1.0              \n",
            "jainilcoder/online-payment-fraud-detection                      Online Payment Fraud Detection                  178MB  2022-10-26 12:35:46           1117         40  0.9705882        \n"
          ]
        }
      ]
    },
    {
      "cell_type": "code",
      "source": [
        "!mkdir sentimentanalysis"
      ],
      "metadata": {
        "id": "UzRQNgt-o_tz",
        "outputId": "c5eebd80-f4c8-49cf-f731-f3f708049267",
        "colab": {
          "base_uri": "https://localhost:8080/"
        }
      },
      "execution_count": 8,
      "outputs": [
        {
          "output_type": "stream",
          "name": "stdout",
          "text": [
            "mkdir: cannot create directory ‘sentimentanalysis’: File exists\n"
          ]
        }
      ]
    },
    {
      "cell_type": "code",
      "source": [
        "cd sentimentanalysis/"
      ],
      "metadata": {
        "id": "nfC6axxGpMcc",
        "outputId": "59540b28-3bc1-4bce-d4a4-c1aa7bee7797",
        "colab": {
          "base_uri": "https://localhost:8080/"
        }
      },
      "execution_count": 9,
      "outputs": [
        {
          "output_type": "stream",
          "name": "stdout",
          "text": [
            "/content/drive/MyDrive/sentimentanalysis\n"
          ]
        }
      ]
    },
    {
      "cell_type": "code",
      "source": [
        "!kaggle competitions download -c sentiment-analysis-on-movie-reviews"
      ],
      "metadata": {
        "id": "ZmczZNDQnMut",
        "outputId": "99324998-01c0-4fb5-818b-719dd35814b1",
        "colab": {
          "base_uri": "https://localhost:8080/"
        }
      },
      "execution_count": 10,
      "outputs": [
        {
          "output_type": "stream",
          "name": "stdout",
          "text": [
            "sentiment-analysis-on-movie-reviews.zip: Skipping, found more recently modified local copy (use --force to force download)\n"
          ]
        }
      ]
    },
    {
      "cell_type": "code",
      "source": [
        "!ls *"
      ],
      "metadata": {
        "id": "TmZ176TYnanR",
        "outputId": "52f902e9-9647-474f-f4f0-12bb86fab494",
        "colab": {
          "base_uri": "https://localhost:8080/"
        }
      },
      "execution_count": 11,
      "outputs": [
        {
          "output_type": "stream",
          "name": "stdout",
          "text": [
            "sampleSubmission.csv\t\t\t test.tsv.zip\n",
            "sentiment-analysis-on-movie-reviews.zip  train.tsv.zip\n"
          ]
        }
      ]
    },
    {
      "cell_type": "code",
      "source": [
        "!unzip  sentiment-analysis-on-movie-reviews.zip\n"
      ],
      "metadata": {
        "id": "xrzOJTCVpJpb",
        "outputId": "adebb33d-88d1-4baa-83c6-3ec7d7feabe8",
        "colab": {
          "base_uri": "https://localhost:8080/"
        }
      },
      "execution_count": 12,
      "outputs": [
        {
          "output_type": "stream",
          "name": "stdout",
          "text": [
            "Archive:  sentiment-analysis-on-movie-reviews.zip\n",
            "replace sampleSubmission.csv? [y]es, [n]o, [A]ll, [N]one, [r]ename: "
          ]
        }
      ]
    },
    {
      "cell_type": "code",
      "source": [
        "!ls *"
      ],
      "metadata": {
        "id": "3ueBnDZNWgyL",
        "outputId": "f5987e9a-0e3a-4a70-9893-6b8a784fbe5e",
        "colab": {
          "base_uri": "https://localhost:8080/"
        }
      },
      "execution_count": 13,
      "outputs": [
        {
          "output_type": "stream",
          "name": "stdout",
          "text": [
            "sampleSubmission.csv\t\t\t test.tsv.zip\n",
            "sentiment-analysis-on-movie-reviews.zip  train.tsv.zip\n"
          ]
        }
      ]
    },
    {
      "cell_type": "code",
      "source": [
        "reviews = pd.read_csv(\"train.tsv.zip\", sep=\"\\t\")\n",
        "reviews"
      ],
      "metadata": {
        "colab": {
          "base_uri": "https://localhost:8080/",
          "height": 424
        },
        "id": "DbjxZ1r9pZeX",
        "outputId": "a0f645af-eb6a-48dc-e978-1d8c3c02104c"
      },
      "execution_count": 15,
      "outputs": [
        {
          "output_type": "execute_result",
          "data": {
            "text/plain": [
              "        PhraseId  SentenceId  \\\n",
              "0              1           1   \n",
              "1              2           1   \n",
              "2              3           1   \n",
              "3              4           1   \n",
              "4              5           1   \n",
              "...          ...         ...   \n",
              "156055    156056        8544   \n",
              "156056    156057        8544   \n",
              "156057    156058        8544   \n",
              "156058    156059        8544   \n",
              "156059    156060        8544   \n",
              "\n",
              "                                                   Phrase  Sentiment  \n",
              "0       A series of escapades demonstrating the adage ...          1  \n",
              "1       A series of escapades demonstrating the adage ...          2  \n",
              "2                                                A series          2  \n",
              "3                                                       A          2  \n",
              "4                                                  series          2  \n",
              "...                                                   ...        ...  \n",
              "156055                                          Hearst 's          2  \n",
              "156056                          forced avuncular chortles          1  \n",
              "156057                                 avuncular chortles          3  \n",
              "156058                                          avuncular          2  \n",
              "156059                                           chortles          2  \n",
              "\n",
              "[156060 rows x 4 columns]"
            ],
            "text/html": [
              "\n",
              "  <div id=\"df-75f886c2-1fd4-4715-8e14-d87f8b4c57db\">\n",
              "    <div class=\"colab-df-container\">\n",
              "      <div>\n",
              "<style scoped>\n",
              "    .dataframe tbody tr th:only-of-type {\n",
              "        vertical-align: middle;\n",
              "    }\n",
              "\n",
              "    .dataframe tbody tr th {\n",
              "        vertical-align: top;\n",
              "    }\n",
              "\n",
              "    .dataframe thead th {\n",
              "        text-align: right;\n",
              "    }\n",
              "</style>\n",
              "<table border=\"1\" class=\"dataframe\">\n",
              "  <thead>\n",
              "    <tr style=\"text-align: right;\">\n",
              "      <th></th>\n",
              "      <th>PhraseId</th>\n",
              "      <th>SentenceId</th>\n",
              "      <th>Phrase</th>\n",
              "      <th>Sentiment</th>\n",
              "    </tr>\n",
              "  </thead>\n",
              "  <tbody>\n",
              "    <tr>\n",
              "      <th>0</th>\n",
              "      <td>1</td>\n",
              "      <td>1</td>\n",
              "      <td>A series of escapades demonstrating the adage ...</td>\n",
              "      <td>1</td>\n",
              "    </tr>\n",
              "    <tr>\n",
              "      <th>1</th>\n",
              "      <td>2</td>\n",
              "      <td>1</td>\n",
              "      <td>A series of escapades demonstrating the adage ...</td>\n",
              "      <td>2</td>\n",
              "    </tr>\n",
              "    <tr>\n",
              "      <th>2</th>\n",
              "      <td>3</td>\n",
              "      <td>1</td>\n",
              "      <td>A series</td>\n",
              "      <td>2</td>\n",
              "    </tr>\n",
              "    <tr>\n",
              "      <th>3</th>\n",
              "      <td>4</td>\n",
              "      <td>1</td>\n",
              "      <td>A</td>\n",
              "      <td>2</td>\n",
              "    </tr>\n",
              "    <tr>\n",
              "      <th>4</th>\n",
              "      <td>5</td>\n",
              "      <td>1</td>\n",
              "      <td>series</td>\n",
              "      <td>2</td>\n",
              "    </tr>\n",
              "    <tr>\n",
              "      <th>...</th>\n",
              "      <td>...</td>\n",
              "      <td>...</td>\n",
              "      <td>...</td>\n",
              "      <td>...</td>\n",
              "    </tr>\n",
              "    <tr>\n",
              "      <th>156055</th>\n",
              "      <td>156056</td>\n",
              "      <td>8544</td>\n",
              "      <td>Hearst 's</td>\n",
              "      <td>2</td>\n",
              "    </tr>\n",
              "    <tr>\n",
              "      <th>156056</th>\n",
              "      <td>156057</td>\n",
              "      <td>8544</td>\n",
              "      <td>forced avuncular chortles</td>\n",
              "      <td>1</td>\n",
              "    </tr>\n",
              "    <tr>\n",
              "      <th>156057</th>\n",
              "      <td>156058</td>\n",
              "      <td>8544</td>\n",
              "      <td>avuncular chortles</td>\n",
              "      <td>3</td>\n",
              "    </tr>\n",
              "    <tr>\n",
              "      <th>156058</th>\n",
              "      <td>156059</td>\n",
              "      <td>8544</td>\n",
              "      <td>avuncular</td>\n",
              "      <td>2</td>\n",
              "    </tr>\n",
              "    <tr>\n",
              "      <th>156059</th>\n",
              "      <td>156060</td>\n",
              "      <td>8544</td>\n",
              "      <td>chortles</td>\n",
              "      <td>2</td>\n",
              "    </tr>\n",
              "  </tbody>\n",
              "</table>\n",
              "<p>156060 rows × 4 columns</p>\n",
              "</div>\n",
              "      <button class=\"colab-df-convert\" onclick=\"convertToInteractive('df-75f886c2-1fd4-4715-8e14-d87f8b4c57db')\"\n",
              "              title=\"Convert this dataframe to an interactive table.\"\n",
              "              style=\"display:none;\">\n",
              "        \n",
              "  <svg xmlns=\"http://www.w3.org/2000/svg\" height=\"24px\"viewBox=\"0 0 24 24\"\n",
              "       width=\"24px\">\n",
              "    <path d=\"M0 0h24v24H0V0z\" fill=\"none\"/>\n",
              "    <path d=\"M18.56 5.44l.94 2.06.94-2.06 2.06-.94-2.06-.94-.94-2.06-.94 2.06-2.06.94zm-11 1L8.5 8.5l.94-2.06 2.06-.94-2.06-.94L8.5 2.5l-.94 2.06-2.06.94zm10 10l.94 2.06.94-2.06 2.06-.94-2.06-.94-.94-2.06-.94 2.06-2.06.94z\"/><path d=\"M17.41 7.96l-1.37-1.37c-.4-.4-.92-.59-1.43-.59-.52 0-1.04.2-1.43.59L10.3 9.45l-7.72 7.72c-.78.78-.78 2.05 0 2.83L4 21.41c.39.39.9.59 1.41.59.51 0 1.02-.2 1.41-.59l7.78-7.78 2.81-2.81c.8-.78.8-2.07 0-2.86zM5.41 20L4 18.59l7.72-7.72 1.47 1.35L5.41 20z\"/>\n",
              "  </svg>\n",
              "      </button>\n",
              "      \n",
              "  <style>\n",
              "    .colab-df-container {\n",
              "      display:flex;\n",
              "      flex-wrap:wrap;\n",
              "      gap: 12px;\n",
              "    }\n",
              "\n",
              "    .colab-df-convert {\n",
              "      background-color: #E8F0FE;\n",
              "      border: none;\n",
              "      border-radius: 50%;\n",
              "      cursor: pointer;\n",
              "      display: none;\n",
              "      fill: #1967D2;\n",
              "      height: 32px;\n",
              "      padding: 0 0 0 0;\n",
              "      width: 32px;\n",
              "    }\n",
              "\n",
              "    .colab-df-convert:hover {\n",
              "      background-color: #E2EBFA;\n",
              "      box-shadow: 0px 1px 2px rgba(60, 64, 67, 0.3), 0px 1px 3px 1px rgba(60, 64, 67, 0.15);\n",
              "      fill: #174EA6;\n",
              "    }\n",
              "\n",
              "    [theme=dark] .colab-df-convert {\n",
              "      background-color: #3B4455;\n",
              "      fill: #D2E3FC;\n",
              "    }\n",
              "\n",
              "    [theme=dark] .colab-df-convert:hover {\n",
              "      background-color: #434B5C;\n",
              "      box-shadow: 0px 1px 3px 1px rgba(0, 0, 0, 0.15);\n",
              "      filter: drop-shadow(0px 1px 2px rgba(0, 0, 0, 0.3));\n",
              "      fill: #FFFFFF;\n",
              "    }\n",
              "  </style>\n",
              "\n",
              "      <script>\n",
              "        const buttonEl =\n",
              "          document.querySelector('#df-75f886c2-1fd4-4715-8e14-d87f8b4c57db button.colab-df-convert');\n",
              "        buttonEl.style.display =\n",
              "          google.colab.kernel.accessAllowed ? 'block' : 'none';\n",
              "\n",
              "        async function convertToInteractive(key) {\n",
              "          const element = document.querySelector('#df-75f886c2-1fd4-4715-8e14-d87f8b4c57db');\n",
              "          const dataTable =\n",
              "            await google.colab.kernel.invokeFunction('convertToInteractive',\n",
              "                                                     [key], {});\n",
              "          if (!dataTable) return;\n",
              "\n",
              "          const docLinkHtml = 'Like what you see? Visit the ' +\n",
              "            '<a target=\"_blank\" href=https://colab.research.google.com/notebooks/data_table.ipynb>data table notebook</a>'\n",
              "            + ' to learn more about interactive tables.';\n",
              "          element.innerHTML = '';\n",
              "          dataTable['output_type'] = 'display_data';\n",
              "          await google.colab.output.renderOutput(dataTable, element);\n",
              "          const docLink = document.createElement('div');\n",
              "          docLink.innerHTML = docLinkHtml;\n",
              "          element.appendChild(docLink);\n",
              "        }\n",
              "      </script>\n",
              "    </div>\n",
              "  </div>\n",
              "  "
            ]
          },
          "metadata": {},
          "execution_count": 15
        }
      ]
    },
    {
      "cell_type": "code",
      "source": [
        "reviews = reviews.groupby(\"SentenceId\").first()"
      ],
      "metadata": {
        "id": "24pjKSBc5yxY"
      },
      "execution_count": 19,
      "outputs": []
    },
    {
      "cell_type": "code",
      "source": [
        "reviews"
      ],
      "metadata": {
        "id": "piePGVFbYPWD",
        "outputId": "cb1add45-5fc5-4c55-e8e6-73036d0d28c1",
        "colab": {
          "base_uri": "https://localhost:8080/",
          "height": 455
        }
      },
      "execution_count": 23,
      "outputs": [
        {
          "output_type": "execute_result",
          "data": {
            "text/plain": [
              "            PhraseId                                             Phrase  \\\n",
              "SentenceId                                                                \n",
              "1                  1  A series of escapades demonstrating the adage ...   \n",
              "2                 64  This quiet , introspective and entertaining in...   \n",
              "3                 82  Even fans of Ismail Merchant 's work , I suspe...   \n",
              "4                117  A positively thrilling combination of ethnogra...   \n",
              "5                157  Aggressive self-glorification and a manipulati...   \n",
              "...              ...                                                ...   \n",
              "8540          155985  ... either you 're willing to go with this cla...   \n",
              "8541          155998  Despite these annoyances , the capable Claybur...   \n",
              "8542          156022  -LRB- Tries -RRB- to parody a genre that 's al...   \n",
              "8543          156032  The movie 's downfall is to substitute plot fo...   \n",
              "8544          156040  The film is darkly atmospheric , with Herrmann...   \n",
              "\n",
              "            Sentiment  \n",
              "SentenceId             \n",
              "1                   1  \n",
              "2                   4  \n",
              "3                   1  \n",
              "4                   3  \n",
              "5                   1  \n",
              "...               ...  \n",
              "8540                2  \n",
              "8541                2  \n",
              "8542                1  \n",
              "8543                1  \n",
              "8544                2  \n",
              "\n",
              "[8529 rows x 3 columns]"
            ],
            "text/html": [
              "\n",
              "  <div id=\"df-69e73027-ea5e-4a5a-9b51-be0f5fe57ef3\">\n",
              "    <div class=\"colab-df-container\">\n",
              "      <div>\n",
              "<style scoped>\n",
              "    .dataframe tbody tr th:only-of-type {\n",
              "        vertical-align: middle;\n",
              "    }\n",
              "\n",
              "    .dataframe tbody tr th {\n",
              "        vertical-align: top;\n",
              "    }\n",
              "\n",
              "    .dataframe thead th {\n",
              "        text-align: right;\n",
              "    }\n",
              "</style>\n",
              "<table border=\"1\" class=\"dataframe\">\n",
              "  <thead>\n",
              "    <tr style=\"text-align: right;\">\n",
              "      <th></th>\n",
              "      <th>PhraseId</th>\n",
              "      <th>Phrase</th>\n",
              "      <th>Sentiment</th>\n",
              "    </tr>\n",
              "    <tr>\n",
              "      <th>SentenceId</th>\n",
              "      <th></th>\n",
              "      <th></th>\n",
              "      <th></th>\n",
              "    </tr>\n",
              "  </thead>\n",
              "  <tbody>\n",
              "    <tr>\n",
              "      <th>1</th>\n",
              "      <td>1</td>\n",
              "      <td>A series of escapades demonstrating the adage ...</td>\n",
              "      <td>1</td>\n",
              "    </tr>\n",
              "    <tr>\n",
              "      <th>2</th>\n",
              "      <td>64</td>\n",
              "      <td>This quiet , introspective and entertaining in...</td>\n",
              "      <td>4</td>\n",
              "    </tr>\n",
              "    <tr>\n",
              "      <th>3</th>\n",
              "      <td>82</td>\n",
              "      <td>Even fans of Ismail Merchant 's work , I suspe...</td>\n",
              "      <td>1</td>\n",
              "    </tr>\n",
              "    <tr>\n",
              "      <th>4</th>\n",
              "      <td>117</td>\n",
              "      <td>A positively thrilling combination of ethnogra...</td>\n",
              "      <td>3</td>\n",
              "    </tr>\n",
              "    <tr>\n",
              "      <th>5</th>\n",
              "      <td>157</td>\n",
              "      <td>Aggressive self-glorification and a manipulati...</td>\n",
              "      <td>1</td>\n",
              "    </tr>\n",
              "    <tr>\n",
              "      <th>...</th>\n",
              "      <td>...</td>\n",
              "      <td>...</td>\n",
              "      <td>...</td>\n",
              "    </tr>\n",
              "    <tr>\n",
              "      <th>8540</th>\n",
              "      <td>155985</td>\n",
              "      <td>... either you 're willing to go with this cla...</td>\n",
              "      <td>2</td>\n",
              "    </tr>\n",
              "    <tr>\n",
              "      <th>8541</th>\n",
              "      <td>155998</td>\n",
              "      <td>Despite these annoyances , the capable Claybur...</td>\n",
              "      <td>2</td>\n",
              "    </tr>\n",
              "    <tr>\n",
              "      <th>8542</th>\n",
              "      <td>156022</td>\n",
              "      <td>-LRB- Tries -RRB- to parody a genre that 's al...</td>\n",
              "      <td>1</td>\n",
              "    </tr>\n",
              "    <tr>\n",
              "      <th>8543</th>\n",
              "      <td>156032</td>\n",
              "      <td>The movie 's downfall is to substitute plot fo...</td>\n",
              "      <td>1</td>\n",
              "    </tr>\n",
              "    <tr>\n",
              "      <th>8544</th>\n",
              "      <td>156040</td>\n",
              "      <td>The film is darkly atmospheric , with Herrmann...</td>\n",
              "      <td>2</td>\n",
              "    </tr>\n",
              "  </tbody>\n",
              "</table>\n",
              "<p>8529 rows × 3 columns</p>\n",
              "</div>\n",
              "      <button class=\"colab-df-convert\" onclick=\"convertToInteractive('df-69e73027-ea5e-4a5a-9b51-be0f5fe57ef3')\"\n",
              "              title=\"Convert this dataframe to an interactive table.\"\n",
              "              style=\"display:none;\">\n",
              "        \n",
              "  <svg xmlns=\"http://www.w3.org/2000/svg\" height=\"24px\"viewBox=\"0 0 24 24\"\n",
              "       width=\"24px\">\n",
              "    <path d=\"M0 0h24v24H0V0z\" fill=\"none\"/>\n",
              "    <path d=\"M18.56 5.44l.94 2.06.94-2.06 2.06-.94-2.06-.94-.94-2.06-.94 2.06-2.06.94zm-11 1L8.5 8.5l.94-2.06 2.06-.94-2.06-.94L8.5 2.5l-.94 2.06-2.06.94zm10 10l.94 2.06.94-2.06 2.06-.94-2.06-.94-.94-2.06-.94 2.06-2.06.94z\"/><path d=\"M17.41 7.96l-1.37-1.37c-.4-.4-.92-.59-1.43-.59-.52 0-1.04.2-1.43.59L10.3 9.45l-7.72 7.72c-.78.78-.78 2.05 0 2.83L4 21.41c.39.39.9.59 1.41.59.51 0 1.02-.2 1.41-.59l7.78-7.78 2.81-2.81c.8-.78.8-2.07 0-2.86zM5.41 20L4 18.59l7.72-7.72 1.47 1.35L5.41 20z\"/>\n",
              "  </svg>\n",
              "      </button>\n",
              "      \n",
              "  <style>\n",
              "    .colab-df-container {\n",
              "      display:flex;\n",
              "      flex-wrap:wrap;\n",
              "      gap: 12px;\n",
              "    }\n",
              "\n",
              "    .colab-df-convert {\n",
              "      background-color: #E8F0FE;\n",
              "      border: none;\n",
              "      border-radius: 50%;\n",
              "      cursor: pointer;\n",
              "      display: none;\n",
              "      fill: #1967D2;\n",
              "      height: 32px;\n",
              "      padding: 0 0 0 0;\n",
              "      width: 32px;\n",
              "    }\n",
              "\n",
              "    .colab-df-convert:hover {\n",
              "      background-color: #E2EBFA;\n",
              "      box-shadow: 0px 1px 2px rgba(60, 64, 67, 0.3), 0px 1px 3px 1px rgba(60, 64, 67, 0.15);\n",
              "      fill: #174EA6;\n",
              "    }\n",
              "\n",
              "    [theme=dark] .colab-df-convert {\n",
              "      background-color: #3B4455;\n",
              "      fill: #D2E3FC;\n",
              "    }\n",
              "\n",
              "    [theme=dark] .colab-df-convert:hover {\n",
              "      background-color: #434B5C;\n",
              "      box-shadow: 0px 1px 3px 1px rgba(0, 0, 0, 0.15);\n",
              "      filter: drop-shadow(0px 1px 2px rgba(0, 0, 0, 0.3));\n",
              "      fill: #FFFFFF;\n",
              "    }\n",
              "  </style>\n",
              "\n",
              "      <script>\n",
              "        const buttonEl =\n",
              "          document.querySelector('#df-69e73027-ea5e-4a5a-9b51-be0f5fe57ef3 button.colab-df-convert');\n",
              "        buttonEl.style.display =\n",
              "          google.colab.kernel.accessAllowed ? 'block' : 'none';\n",
              "\n",
              "        async function convertToInteractive(key) {\n",
              "          const element = document.querySelector('#df-69e73027-ea5e-4a5a-9b51-be0f5fe57ef3');\n",
              "          const dataTable =\n",
              "            await google.colab.kernel.invokeFunction('convertToInteractive',\n",
              "                                                     [key], {});\n",
              "          if (!dataTable) return;\n",
              "\n",
              "          const docLinkHtml = 'Like what you see? Visit the ' +\n",
              "            '<a target=\"_blank\" href=https://colab.research.google.com/notebooks/data_table.ipynb>data table notebook</a>'\n",
              "            + ' to learn more about interactive tables.';\n",
              "          element.innerHTML = '';\n",
              "          dataTable['output_type'] = 'display_data';\n",
              "          await google.colab.output.renderOutput(dataTable, element);\n",
              "          const docLink = document.createElement('div');\n",
              "          docLink.innerHTML = docLinkHtml;\n",
              "          element.appendChild(docLink);\n",
              "        }\n",
              "      </script>\n",
              "    </div>\n",
              "  </div>\n",
              "  "
            ]
          },
          "metadata": {},
          "execution_count": 23
        }
      ]
    },
    {
      "cell_type": "code",
      "source": [
        "reviews.shape"
      ],
      "metadata": {
        "id": "EDpOVqXW6pn5",
        "outputId": "10eb3a8b-4abf-46ac-9cff-4baea1729bc2",
        "colab": {
          "base_uri": "https://localhost:8080/"
        }
      },
      "execution_count": 22,
      "outputs": [
        {
          "output_type": "execute_result",
          "data": {
            "text/plain": [
              "(8529, 3)"
            ]
          },
          "metadata": {},
          "execution_count": 22
        }
      ]
    },
    {
      "cell_type": "code",
      "source": [
        "reviews[[\"Phrase\", \"Sentiment\"]].values"
      ],
      "metadata": {
        "id": "5051zXm7HSuw",
        "outputId": "62728496-5c99-43a0-9419-ac07fbf9fcf1",
        "colab": {
          "base_uri": "https://localhost:8080/"
        }
      },
      "execution_count": 25,
      "outputs": [
        {
          "output_type": "execute_result",
          "data": {
            "text/plain": [
              "array([['A series of escapades demonstrating the adage that what is good for the goose is also good for the gander , some of which occasionally amuses but none of which amounts to much of a story .',\n",
              "        1],\n",
              "       ['This quiet , introspective and entertaining independent is worth seeking .',\n",
              "        4],\n",
              "       [\"Even fans of Ismail Merchant 's work , I suspect , would have a hard time sitting through this one .\",\n",
              "        1],\n",
              "       ...,\n",
              "       [\"-LRB- Tries -RRB- to parody a genre that 's already a joke in the United States .\",\n",
              "        1],\n",
              "       [\"The movie 's downfall is to substitute plot for personality .\",\n",
              "        1],\n",
              "       [\"The film is darkly atmospheric , with Herrmann quietly suggesting the sadness and obsession beneath Hearst 's forced avuncular chortles .\",\n",
              "        2]], dtype=object)"
            ]
          },
          "metadata": {},
          "execution_count": 25
        }
      ]
    },
    {
      "cell_type": "markdown",
      "source": [
        "# list comprehension"
      ],
      "metadata": {
        "id": "ybCYkJXlZK_C"
      }
    },
    {
      "cell_type": "code",
      "source": [
        "tmp_ = []\n",
        "for i in range(10):\n",
        "  tmp_.append(i)\n",
        "tmp_"
      ],
      "metadata": {
        "id": "uHq2bbKZZRzZ",
        "outputId": "6567fb68-0a4e-4d53-bda5-4e1733439107",
        "colab": {
          "base_uri": "https://localhost:8080/"
        }
      },
      "execution_count": 29,
      "outputs": [
        {
          "output_type": "execute_result",
          "data": {
            "text/plain": [
              "[0, 1, 2, 3, 4, 5, 6, 7, 8, 9]"
            ]
          },
          "metadata": {},
          "execution_count": 29
        }
      ]
    },
    {
      "cell_type": "code",
      "source": [
        "[i for i in range(10)]"
      ],
      "metadata": {
        "id": "b8slyZFnZbbh",
        "outputId": "37648313-e25b-4cd9-b83f-3212b9e35339",
        "colab": {
          "base_uri": "https://localhost:8080/"
        }
      },
      "execution_count": 30,
      "outputs": [
        {
          "output_type": "execute_result",
          "data": {
            "text/plain": [
              "[0, 1, 2, 3, 4, 5, 6, 7, 8, 9]"
            ]
          },
          "metadata": {},
          "execution_count": 30
        }
      ]
    },
    {
      "cell_type": "code",
      "source": [
        "reviews[\"Phrase\"][1].split(\" \")"
      ],
      "metadata": {
        "id": "qidCZrGVarxG",
        "outputId": "91db4639-6d10-4e7e-f97d-8d0619f2e0f2",
        "colab": {
          "base_uri": "https://localhost:8080/"
        }
      },
      "execution_count": 42,
      "outputs": [
        {
          "output_type": "execute_result",
          "data": {
            "text/plain": [
              "['A',\n",
              " 'series',\n",
              " 'of',\n",
              " 'escapades',\n",
              " 'demonstrating',\n",
              " 'the',\n",
              " 'adage',\n",
              " 'that',\n",
              " 'what',\n",
              " 'is',\n",
              " 'good',\n",
              " 'for',\n",
              " 'the',\n",
              " 'goose',\n",
              " 'is',\n",
              " 'also',\n",
              " 'good',\n",
              " 'for',\n",
              " 'the',\n",
              " 'gander',\n",
              " ',',\n",
              " 'some',\n",
              " 'of',\n",
              " 'which',\n",
              " 'occasionally',\n",
              " 'amuses',\n",
              " 'but',\n",
              " 'none',\n",
              " 'of',\n",
              " 'which',\n",
              " 'amounts',\n",
              " 'to',\n",
              " 'much',\n",
              " 'of',\n",
              " 'a',\n",
              " 'story',\n",
              " '.']"
            ]
          },
          "metadata": {},
          "execution_count": 42
        }
      ]
    },
    {
      "cell_type": "code",
      "source": [
        "len(reviews[\"Phrase\"][1].split())"
      ],
      "metadata": {
        "id": "83w9Ct8VaTSU",
        "outputId": "6e4b588e-780f-4975-9e84-c43a31634881",
        "colab": {
          "base_uri": "https://localhost:8080/"
        }
      },
      "execution_count": 37,
      "outputs": [
        {
          "output_type": "execute_result",
          "data": {
            "text/plain": [
              "37"
            ]
          },
          "metadata": {},
          "execution_count": 37
        }
      ]
    },
    {
      "cell_type": "code",
      "source": [
        "for phrase in reviews[\"Phrase\"].values[:10]:\n",
        "  print(len(phrase.split()))"
      ],
      "metadata": {
        "id": "iIdATopdZ_IT",
        "outputId": "86ef9bdd-a0ce-43ba-ad90-25f70d15299c",
        "colab": {
          "base_uri": "https://localhost:8080/"
        }
      },
      "execution_count": 38,
      "outputs": [
        {
          "output_type": "stream",
          "name": "stdout",
          "text": [
            "37\n",
            "11\n",
            "21\n",
            "26\n",
            "7\n",
            "19\n",
            "10\n",
            "20\n",
            "9\n",
            "9\n"
          ]
        }
      ]
    },
    {
      "cell_type": "code",
      "source": [
        "np.sum([len(phrase.split()) for phrase in reviews[\"Phrase\"].values])"
      ],
      "metadata": {
        "id": "OfEywEVOa-_f",
        "outputId": "27a0b514-81cf-4890-ae26-ea2c406801e2",
        "colab": {
          "base_uri": "https://localhost:8080/"
        }
      },
      "execution_count": 47,
      "outputs": [
        {
          "output_type": "execute_result",
          "data": {
            "text/plain": [
              "162044"
            ]
          },
          "metadata": {},
          "execution_count": 47
        }
      ]
    },
    {
      "cell_type": "code",
      "source": [
        "print('Number of Reviews/Documents: {}'.format(len(reviews)))\n",
        "\n",
        "print('Corpus Size (words): {}'.format(np.sum([len(phrase.split()) for phrase in reviews[\"Phrase\"].values])))"
      ],
      "metadata": {
        "id": "MZF-96-DGnNP",
        "outputId": "e7bebff1-9a14-473d-ed67-75780c91c712",
        "colab": {
          "base_uri": "https://localhost:8080/"
        }
      },
      "execution_count": 46,
      "outputs": [
        {
          "output_type": "stream",
          "name": "stdout",
          "text": [
            "Number of Reviews/Documents: 8529\n",
            "Corpus Size (words): 162044\n"
          ]
        }
      ]
    },
    {
      "cell_type": "code",
      "source": [
        "reviews[\"Sentiment\"].unique()"
      ],
      "metadata": {
        "id": "cembJ8bCA-Tj",
        "outputId": "59c14f01-4090-4143-d72a-4021093fa432",
        "colab": {
          "base_uri": "https://localhost:8080/"
        }
      },
      "execution_count": 49,
      "outputs": [
        {
          "output_type": "execute_result",
          "data": {
            "text/plain": [
              "array([1, 4, 3, 2, 0])"
            ]
          },
          "metadata": {},
          "execution_count": 49
        }
      ]
    },
    {
      "cell_type": "code",
      "source": [
        "#plot sentiment histogram\n",
        "plt.hist(reviews[\"Sentiment\"], bins=[-0.5, 0.5, 1.5, 2.5, 3.5, 4.5]);"
      ],
      "metadata": {
        "id": "CVeYuL-UIqbk",
        "outputId": "f2b824ae-98f3-4bbd-811d-100fa08ba985",
        "colab": {
          "base_uri": "https://localhost:8080/",
          "height": 265
        }
      },
      "execution_count": 52,
      "outputs": [
        {
          "output_type": "display_data",
          "data": {
            "text/plain": [
              "<Figure size 432x288 with 1 Axes>"
            ],
            "image/png": "[encoded data removed]"
          },
          "metadata": {
            "needs_background": "light"
          }
        }
      ]
    },
    {
      "cell_type": "code",
      "source": [
        "!pip install stop_words"
      ],
      "metadata": {
        "id": "P6zidmhN9LMz",
        "outputId": "0f491acc-0e9f-4b90-c8a5-593dbe2f416e",
        "colab": {
          "base_uri": "https://localhost:8080/"
        }
      },
      "execution_count": 53,
      "outputs": [
        {
          "output_type": "stream",
          "name": "stdout",
          "text": [
            "Looking in indexes: https://pypi.org/simple, https://us-python.pkg.dev/colab-wheels/public/simple/\n",
            "Collecting stop_words\n",
            "  Downloading stop-words-2018.7.23.tar.gz (31 kB)\n",
            "Building wheels for collected packages: stop-words\n",
            "  Building wheel for stop-words (setup.py) ... \u001b[?25l\u001b[?25hdone\n",
            "  Created wheel for stop-words: filename=stop_words-2018.7.23-py3-none-any.whl size=32912 sha256=c63088ef5ccb89a79c4dfa17898f68317fc619a3f4250667a9a73c7d00220e08\n",
            "  Stored in directory: /root/.cache/pip/wheels/fb/86/b2/277b10b1ce9f73ce15059bf6975d4547cc4ec3feeb651978e9\n",
            "Successfully built stop-words\n",
            "Installing collected packages: stop-words\n",
            "Successfully installed stop-words-2018.7.23\n"
          ]
        }
      ]
    },
    {
      "cell_type": "code",
      "source": [
        "from nltk.tokenize import word_tokenize\n"
      ],
      "metadata": {
        "id": "NTFNExRi9ylE"
      },
      "execution_count": 54,
      "outputs": []
    },
    {
      "cell_type": "code",
      "source": [
        "!python -m nltk.downloader punkt"
      ],
      "metadata": {
        "colab": {
          "base_uri": "https://localhost:8080/"
        },
        "id": "1TtfouVe9Z5p",
        "outputId": "ecd15e87-cc6c-42f1-dc7f-f9c27874749a"
      },
      "execution_count": 55,
      "outputs": [
        {
          "output_type": "stream",
          "name": "stdout",
          "text": [
            "/usr/lib/python3.7/runpy.py:125: RuntimeWarning: 'nltk.downloader' found in sys.modules after import of package 'nltk', but prior to execution of 'nltk.downloader'; this may result in unpredictable behaviour\n",
            "  warn(RuntimeWarning(msg))\n",
            "[nltk_data] Downloading package punkt to /root/nltk_data...\n",
            "[nltk_data]   Unzipping tokenizers/punkt.zip.\n"
          ]
        }
      ]
    },
    {
      "cell_type": "code",
      "source": [
        "#NLP packs\n",
        "import nltk\n",
        "from nltk.tokenize import word_tokenize\n",
        "#from nltk.corpus import stopwords\n",
        "from stop_words import get_stop_words\n",
        "#from textblob import TextBlob , Word\n",
        "#import re \n",
        "#import string"
      ],
      "metadata": {
        "id": "fiHp3IY0pxE0"
      },
      "execution_count": 56,
      "outputs": []
    },
    {
      "cell_type": "code",
      "source": [
        "#remove some characters like new line from the strings\n",
        "reviews['Phrase'] = reviews['Phrase'].str.lower(\n",
        "    ).str.replace(\n",
        "        '[^\\w\\s]', '').str.replace(\n",
        "            '\\d+', '').str.replace(\n",
        "                '\\n',' ').replace(\n",
        "                        '\\r','').str.replace(\n",
        "                            \"[^a-zA-Z0-9\\s]\",'') "
      ],
      "metadata": {
        "colab": {
          "base_uri": "https://localhost:8080/"
        },
        "id": "8Toyb3E3_jEf",
        "outputId": "ff8294b8-dc83-4b27-f6a8-334338de5ac1"
      },
      "execution_count": 57,
      "outputs": [
        {
          "output_type": "stream",
          "name": "stderr",
          "text": [
            "/usr/local/lib/python3.7/dist-packages/ipykernel_launcher.py:4: FutureWarning: The default value of regex will change from True to False in a future version.\n",
            "  after removing the cwd from sys.path.\n",
            "/usr/local/lib/python3.7/dist-packages/ipykernel_launcher.py:5: FutureWarning: The default value of regex will change from True to False in a future version.\n",
            "  \"\"\"\n",
            "/usr/local/lib/python3.7/dist-packages/ipykernel_launcher.py:8: FutureWarning: The default value of regex will change from True to False in a future version.\n",
            "  \n"
          ]
        }
      ]
    },
    {
      "cell_type": "code",
      "source": [
        "reviews['Phrase']"
      ],
      "metadata": {
        "id": "7stulAI2dqaY",
        "outputId": "1bb2d983-a981-40ae-8b1b-f7107acbd5ce",
        "colab": {
          "base_uri": "https://localhost:8080/"
        }
      },
      "execution_count": 58,
      "outputs": [
        {
          "output_type": "execute_result",
          "data": {
            "text/plain": [
              "SentenceId\n",
              "1       a series of escapades demonstrating the adage ...\n",
              "2       this quiet  introspective and entertaining ind...\n",
              "3       even fans of ismail merchant s work  i suspect...\n",
              "4       a positively thrilling combination of ethnogra...\n",
              "5       aggressive selfglorification and a manipulativ...\n",
              "                              ...                        \n",
              "8540     either you re willing to go with this claustr...\n",
              "8541    despite these annoyances  the capable clayburg...\n",
              "8542    lrb tries rrb to parody a genre that s already...\n",
              "8543    the movie s downfall is to substitute plot for...\n",
              "8544    the film is darkly atmospheric  with herrmann ...\n",
              "Name: Phrase, Length: 8529, dtype: object"
            ]
          },
          "metadata": {},
          "execution_count": 58
        }
      ]
    },
    {
      "cell_type": "markdown",
      "source": [
        "# lets talk about the lambda construct and apply"
      ],
      "metadata": {
        "id": "EvGhYTCUKeCO"
      }
    },
    {
      "cell_type": "code",
      "source": [
        "def times2(x):\n",
        "  return x*2"
      ],
      "metadata": {
        "id": "EC4NEn0Yd8bv"
      },
      "execution_count": 60,
      "outputs": []
    },
    {
      "cell_type": "code",
      "source": [
        "times2(4)"
      ],
      "metadata": {
        "id": "AlO-Gax4eG51",
        "outputId": "3c54cb24-978c-48aa-e661-bc6182e2ca4a",
        "colab": {
          "base_uri": "https://localhost:8080/"
        }
      },
      "execution_count": 61,
      "outputs": [
        {
          "output_type": "execute_result",
          "data": {
            "text/plain": [
              "8"
            ]
          },
          "metadata": {},
          "execution_count": 61
        }
      ]
    },
    {
      "cell_type": "code",
      "source": [
        "lambda x: x*2"
      ],
      "metadata": {
        "id": "BhisQ3VCeKL0",
        "outputId": "4681bf3c-cd60-4433-9067-2766fbea4c77",
        "colab": {
          "base_uri": "https://localhost:8080/"
        }
      },
      "execution_count": 62,
      "outputs": [
        {
          "output_type": "execute_result",
          "data": {
            "text/plain": [
              "<function __main__.<lambda>(x)>"
            ]
          },
          "metadata": {},
          "execution_count": 62
        }
      ]
    },
    {
      "cell_type": "code",
      "source": [
        "word_tokenize(\" \".join(reviews[\"Phrase\"].values[1]))"
      ],
      "metadata": {
        "id": "tQGIu5j2hKmp",
        "outputId": "16c848c0-6959-4606-d8b9-ef5d3b0cd66e",
        "colab": {
          "base_uri": "https://localhost:8080/"
        }
      },
      "execution_count": 82,
      "outputs": [
        {
          "output_type": "execute_result",
          "data": {
            "text/plain": [
              "['quiet', 'introspective', 'entertaining', 'independent', 'worth', 'seeking']"
            ]
          },
          "metadata": {},
          "execution_count": 82
        }
      ]
    },
    {
      "cell_type": "code",
      "source": [
        "reviews['Phrase'] = reviews['Phrase'].apply(lambda x: word_tokenize(x)) # sentence -> words\n"
      ],
      "metadata": {
        "id": "sdkANKuEh29s"
      },
      "execution_count": null,
      "outputs": []
    },
    {
      "cell_type": "code",
      "source": [
        "reviews['Phrase']"
      ],
      "metadata": {
        "colab": {
          "base_uri": "https://localhost:8080/"
        },
        "id": "vHskiXRp-JS8",
        "outputId": "a4c17671-9f07-4d49-bcec-a7c5dca52487"
      },
      "execution_count": 63,
      "outputs": [
        {
          "output_type": "execute_result",
          "data": {
            "text/plain": [
              "SentenceId\n",
              "1       [a, series, of, escapades, demonstrating, the,...\n",
              "2       [this, quiet, introspective, and, entertaining...\n",
              "3       [even, fans, of, ismail, merchant, s, work, i,...\n",
              "4       [a, positively, thrilling, combination, of, et...\n",
              "5       [aggressive, selfglorification, and, a, manipu...\n",
              "                              ...                        \n",
              "8540    [either, you, re, willing, to, go, with, this,...\n",
              "8541    [despite, these, annoyances, the, capable, cla...\n",
              "8542    [lrb, tries, rrb, to, parody, a, genre, that, ...\n",
              "8543    [the, movie, s, downfall, is, to, substitute, ...\n",
              "8544    [the, film, is, darkly, atmospheric, with, her...\n",
              "Name: Phrase, Length: 8529, dtype: object"
            ]
          },
          "metadata": {},
          "execution_count": 63
        }
      ]
    },
    {
      "cell_type": "markdown",
      "source": [
        "# lets talk about stop words... and list comprehensions"
      ],
      "metadata": {
        "id": "6HBvme9AvKwX"
      }
    },
    {
      "cell_type": "code",
      "source": [
        "from wordcloud import WordCloud, STOPWORDS\n",
        "STOPWORDS"
      ],
      "metadata": {
        "id": "n5Jq1PW9-8RB"
      },
      "execution_count": null,
      "outputs": []
    },
    {
      "cell_type": "code",
      "source": [
        "reviews[\"Phrase\"] = reviews[\"Phrase\"].apply(lambda x: \n",
        "                                [word for word in x if word not in STOPWORDS]) # stop words removal\n"
      ],
      "metadata": {
        "id": "9R7s3OjW-dOd"
      },
      "execution_count": 65,
      "outputs": []
    },
    {
      "cell_type": "code",
      "source": [
        "reviews[\"Phrase\"]"
      ],
      "metadata": {
        "id": "Vdy-D0Ijfb8z",
        "outputId": "c636bbb0-e54c-4bc8-def2-2f10f0729a9e",
        "colab": {
          "base_uri": "https://localhost:8080/"
        }
      },
      "execution_count": 66,
      "outputs": [
        {
          "output_type": "execute_result",
          "data": {
            "text/plain": [
              "SentenceId\n",
              "1       [series, escapades, demonstrating, adage, good...\n",
              "2       [quiet, introspective, entertaining, independe...\n",
              "3       [even, fans, ismail, merchant, s, work, suspec...\n",
              "4       [positively, thrilling, combination, ethnograp...\n",
              "5       [aggressive, selfglorification, manipulative, ...\n",
              "                              ...                        \n",
              "8540    [either, re, willing, go, claustrophobic, conc...\n",
              "8541    [despite, annoyances, capable, clayburgh, tamb...\n",
              "8542    [lrb, tries, rrb, parody, genre, s, already, j...\n",
              "8543    [movie, s, downfall, substitute, plot, persona...\n",
              "8544    [film, darkly, atmospheric, herrmann, quietly,...\n",
              "Name: Phrase, Length: 8529, dtype: object"
            ]
          },
          "metadata": {},
          "execution_count": 66
        }
      ]
    },
    {
      "cell_type": "markdown",
      "source": [
        "# Frequency of words"
      ],
      "metadata": {
        "id": "SewshuVMLcRO"
      }
    },
    {
      "cell_type": "code",
      "source": [
        "nltk.FreqDist(reviews.Phrase.sum()).most_common(10)"
      ],
      "metadata": {
        "id": "NuF-aPL9LW-t",
        "outputId": "be5682ba-0cad-4c42-897d-b4f591344fc9",
        "colab": {
          "base_uri": "https://localhost:8080/"
        }
      },
      "execution_count": 67,
      "outputs": [
        {
          "output_type": "execute_result",
          "data": {
            "text/plain": [
              "[('s', 2558),\n",
              " ('film', 1150),\n",
              " ('movie', 969),\n",
              " ('nt', 680),\n",
              " ('one', 553),\n",
              " ('rrb', 352),\n",
              " ('lrb', 351),\n",
              " ('story', 347),\n",
              " ('will', 265),\n",
              " ('good', 264)]"
            ]
          },
          "metadata": {},
          "execution_count": 67
        }
      ]
    },
    {
      "cell_type": "code",
      "source": [
        "reviews[\"Phrase\"] = reviews[\"Phrase\"].apply(lambda x: \n",
        "                                [word for word in x if len(word) > 3]) # stop words removal\n"
      ],
      "metadata": {
        "id": "iTMUNySDfrEy"
      },
      "execution_count": 68,
      "outputs": []
    },
    {
      "cell_type": "code",
      "source": [
        "nltk.FreqDist(reviews.Phrase.sum()).most_common(10)"
      ],
      "metadata": {
        "id": "-XVjVLHhf2Zq",
        "outputId": "5541446b-37bf-4dd0-b5e3-7af851913046",
        "colab": {
          "base_uri": "https://localhost:8080/"
        }
      },
      "execution_count": 69,
      "outputs": [
        {
          "output_type": "execute_result",
          "data": {
            "text/plain": [
              "[('film', 1150),\n",
              " ('movie', 969),\n",
              " ('story', 347),\n",
              " ('will', 265),\n",
              " ('good', 264),\n",
              " ('much', 263),\n",
              " ('even', 256),\n",
              " ('comedy', 249),\n",
              " ('characters', 233),\n",
              " ('time', 230)]"
            ]
          },
          "metadata": {},
          "execution_count": 69
        }
      ]
    },
    {
      "cell_type": "code",
      "source": [
        "words_freq = pd.DataFrame(nltk.FreqDist(reviews.Phrase.sum(\n",
        "                                          )).most_common(10), \n",
        "                          columns=['Top Words', 'Frequency'])\n",
        "sns.barplot(x=\"Top Words\",y=\"Frequency\",data=words_freq);\n",
        "plt.xticks(rotation=45);"
      ],
      "metadata": {
        "id": "b9vRAVsaB_E_",
        "outputId": "66fa0b6d-7436-4608-afe1-8d86430edf7d",
        "colab": {
          "base_uri": "https://localhost:8080/",
          "height": 352
        }
      },
      "execution_count": 84,
      "outputs": [
        {
          "output_type": "execute_result",
          "data": {
            "text/plain": [
              "(array([0, 1, 2, 3, 4, 5, 6, 7, 8, 9]),\n",
              " <a list of 10 Text major ticklabel objects>)"
            ]
          },
          "metadata": {},
          "execution_count": 84
        },
        {
          "output_type": "display_data",
          "data": {
            "text/plain": [
              "<Figure size 432x288 with 1 Axes>"
            ],
            "image/png": "[encoded data removed]"
          },
          "metadata": {
            "needs_background": "light"
          }
        }
      ]
    },
    {
      "cell_type": "markdown",
      "source": [
        "# Lets talk about the str.join() method"
      ],
      "metadata": {
        "id": "q4fwBpYSLodb"
      }
    },
    {
      "cell_type": "code",
      "source": [
        "def wc(data,bgcolor): # word cloud\n",
        "    plt.figure(figsize=(10,10))\n",
        "    wc = WordCloud(background_color=bgcolor, max_words=100, \n",
        "                 min_word_length=4, contour_width=3, \n",
        "                 contour_color='steelblue')\n",
        "    wc.generate(\" \".join(data)) # tum kelimeleri birlestirip tek 1 string haline getirir\n",
        "    plt.imshow(wc)\n",
        "    plt.axis(\"off\")\n",
        "\n",
        "#plot the word cloud for sentiment 0\n",
        "wc(reviews[reviews[\"Sentiment\"] == 0][\"Phrase\"].sum(), bgcolor=\"white\")"
      ],
      "metadata": {
        "id": "mr1a-m0u-xus",
        "outputId": "f03691ad-13cd-4f2e-ad1e-140c5bcc0a31",
        "colab": {
          "base_uri": "https://localhost:8080/",
          "height": 310
        }
      },
      "execution_count": 76,
      "outputs": [
        {
          "output_type": "display_data",
          "data": {
            "text/plain": [
              "<Figure size 720x720 with 1 Axes>"
            ],
            "image/png": "[encoded data removed]"
          },
          "metadata": {
            "needs_background": "light"
          }
        }
      ]
    },
    {
      "cell_type": "code",
      "source": [
        "\n",
        "#plot the word cloud for sentiment 4"
      ],
      "metadata": {
        "id": "lIjyKsi5AP3p"
      },
      "execution_count": null,
      "outputs": []
    },
    {
      "cell_type": "markdown",
      "source": [
        "# last step: sentiment analysis"
      ],
      "metadata": {
        "id": "UukNpgMaL5Mi"
      }
    },
    {
      "cell_type": "code",
      "source": [
        "!pip install vaderSentiment\n"
      ],
      "metadata": {
        "colab": {
          "base_uri": "https://localhost:8080/"
        },
        "id": "_l5PhHk-PZmf",
        "outputId": "f54de5e6-3459-4c3c-bfbb-26e0870bf307"
      },
      "execution_count": null,
      "outputs": [
        {
          "output_type": "stream",
          "name": "stdout",
          "text": [
            "Looking in indexes: https://pypi.org/simple, https://us-python.pkg.dev/colab-wheels/public/simple/\n",
            "Collecting vaderSentiment\n",
            "  Downloading vaderSentiment-3.3.2-py2.py3-none-any.whl (125 kB)\n",
            "\u001b[K     |████████████████████████████████| 125 kB 8.7 MB/s \n",
            "\u001b[?25hRequirement already satisfied: requests in /usr/local/lib/python3.7/dist-packages (from vaderSentiment) (2.23.0)\n",
            "Requirement already satisfied: idna<3,>=2.5 in /usr/local/lib/python3.7/dist-packages (from requests->vaderSentiment) (2.10)\n",
            "Requirement already satisfied: urllib3!=1.25.0,!=1.25.1,<1.26,>=1.21.1 in /usr/local/lib/python3.7/dist-packages (from requests->vaderSentiment) (1.24.3)\n",
            "Requirement already satisfied: chardet<4,>=3.0.2 in /usr/local/lib/python3.7/dist-packages (from requests->vaderSentiment) (3.0.4)\n",
            "Requirement already satisfied: certifi>=2017.4.17 in /usr/local/lib/python3.7/dist-packages (from requests->vaderSentiment) (2022.9.24)\n",
            "Installing collected packages: vaderSentiment\n",
            "Successfully installed vaderSentiment-3.3.2\n"
          ]
        }
      ]
    },
    {
      "cell_type": "code",
      "source": [
        "from vaderSentiment.vaderSentiment import SentimentIntensityAnalyzer\n"
      ],
      "metadata": {
        "id": "91eC5LgOL4Pp"
      },
      "execution_count": null,
      "outputs": []
    },
    {
      "cell_type": "code",
      "source": [
        "sid_obj = SentimentIntensityAnalyzer()\n",
        "sid_obj.polarity_scores(\"series escapades demonstrating adage good goose good gander occasionally amuses none amounts much story\")\n",
        " "
      ],
      "metadata": {
        "colab": {
          "base_uri": "https://localhost:8080/"
        },
        "id": "5r42wsBvPpz6",
        "outputId": "14af8b99-31f5-44fc-9005-ed26ffac10f5"
      },
      "execution_count": null,
      "outputs": [
        {
          "output_type": "execute_result",
          "data": {
            "text/plain": [
              "{'neg': 0.0, 'neu': 0.573, 'pos': 0.427, 'compound': 0.8024}"
            ]
          },
          "metadata": {},
          "execution_count": 175
        }
      ]
    },
    {
      "cell_type": "code",
      "source": [
        "def sentiment_vader(words):\n",
        "  sid_obj = SentimentIntensityAnalyzer()\n",
        "  sentiment_dict = sid_obj.polarity_scores(' '.join(words))\n",
        "  return sentiment_dict['compound']\n"
      ],
      "metadata": {
        "id": "FUzzyBHJYEB9"
      },
      "execution_count": null,
      "outputs": []
    },
    {
      "cell_type": "code",
      "source": [
        "# calculate the sentiment for each review\n",
        "# group the review by the Sentiment column value from the dataset\n",
        "# plot on the x axis the Sentiment column [0, 1, 2, 3, 4]\n",
        "# plot on the y axis the _mean_ sentiment as measured by your code for all reviews with that Sentiment value in the dataset\n",
        "# include the errorbar on the measured sentiment (use plt.errorbar to do this)\n",
        "# hint: you may want to use a list comprehension to do this!"
      ],
      "metadata": {
        "id": "EV8Q22doUjBb"
      },
      "execution_count": null,
      "outputs": []
    },
    {
      "cell_type": "code",
      "source": [],
      "metadata": {
        "id": "WI-Mmxt_VLOj"
      },
      "execution_count": null,
      "outputs": []
    }
  ]
}